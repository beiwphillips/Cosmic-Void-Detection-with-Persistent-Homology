{
 "cells": [
  {
   "cell_type": "code",
   "execution_count": 1,
   "metadata": {},
   "outputs": [],
   "source": [
    "import numpy as np\n",
    "import math\n",
    "\n",
    "from astropy.io import fits\n",
    "from astropy.units import degree, kpc\n",
    "from astropy.coordinates import SkyCoord"
   ]
  },
  {
   "cell_type": "code",
   "execution_count": 2,
   "metadata": {},
   "outputs": [],
   "source": [
    "import matplotlib.pyplot as plt\n",
    "%matplotlib inline"
   ]
  },
  {
   "cell_type": "code",
   "execution_count": 3,
   "metadata": {},
   "outputs": [
    {
     "data": {
      "text/plain": [
       "1162"
      ]
     },
     "execution_count": 3,
     "metadata": {},
     "output_type": "execute_result"
    }
   ],
   "source": [
    "data = fits.open('../v4.4.0_delta_transmission_RMplate.fits')\n",
    "len(data)"
   ]
  },
  {
   "cell_type": "code",
   "execution_count": 4,
   "metadata": {},
   "outputs": [
    {
     "data": {
      "text/plain": [
       "1247"
      ]
     },
     "execution_count": 4,
     "metadata": {},
     "output_type": "execute_result"
    }
   ],
   "source": [
    "old_data = fits.open('../cube/delta_transmission_RMplate.fits')\n",
    "len(old_data)"
   ]
  },
  {
   "cell_type": "markdown",
   "metadata": {},
   "source": [
    "### Data Model"
   ]
  },
  {
   "cell_type": "markdown",
   "metadata": {},
   "source": [
    "**PrimaryHDU**"
   ]
  },
  {
   "cell_type": "code",
   "execution_count": 5,
   "metadata": {},
   "outputs": [
    {
     "data": {
      "text/plain": [
       "SIMPLE  =                    T / file does conform to FITS standard             \n",
       "BITPIX  =                   16 / number of bits per data pixel                  \n",
       "NAXIS   =                    0 / number of data axes                            \n",
       "EXTEND  =                    T / FITS dataset may contain extensions            \n",
       "COMMENT   FITS (Flexible Image Transport System) format is defined in 'Astronomy\n",
       "COMMENT   and Astrophysics', volume 376, page 359; bibcode: 2001A&A...376..359H "
      ]
     },
     "execution_count": 5,
     "metadata": {},
     "output_type": "execute_result"
    }
   ],
   "source": [
    "old_data[0].header"
   ]
  },
  {
   "cell_type": "code",
   "execution_count": 6,
   "metadata": {},
   "outputs": [
    {
     "data": {
      "text/plain": [
       "SIMPLE  =                    T / file does conform to FITS standard             \n",
       "BITPIX  =                   16 / number of bits per data pixel                  \n",
       "NAXIS   =                    0 / number of data axes                            \n",
       "EXTEND  =                    T / FITS dataset may contain extensions            \n",
       "COMMENT   FITS (Flexible Image Transport System) format is defined in 'Astronomy\n",
       "COMMENT   and Astrophysics', volume 376, page 359; bibcode: 2001A&A...376..359H "
      ]
     },
     "execution_count": 6,
     "metadata": {},
     "output_type": "execute_result"
    }
   ],
   "source": [
    "data[0].header"
   ]
  },
  {
   "cell_type": "markdown",
   "metadata": {},
   "source": [
    "**BinaryTableHDU**"
   ]
  },
  {
   "cell_type": "code",
   "execution_count": 7,
   "metadata": {},
   "outputs": [
    {
     "data": {
      "text/plain": [
       "XTENSION= 'BINTABLE'           / binary table extension                         \n",
       "BITPIX  =                    8 / 8-bit bytes                                    \n",
       "NAXIS   =                    2 / 2-dimensional binary table                     \n",
       "NAXIS1  =                   24 / width of table in bytes                        \n",
       "NAXIS2  =                 3466 / number of rows in table                        \n",
       "PCOUNT  =                    0 / size of special data area                      \n",
       "GCOUNT  =                    1 / one data group (required keyword)              \n",
       "TFIELDS =                    3 / number of fields in each row                   \n",
       "TTYPE1  = 'LAMBDA  '           / label for field   1                            \n",
       "TFORM1  = 'D       '           / data format of field: 8-byte DOUBLE            \n",
       "TUNIT1  = 'Angstrom'           / physical unit of field                         \n",
       "TTYPE2  = 'DELTA_T '           / label for field   2                            \n",
       "TFORM2  = 'D       '           / data format of field: 8-byte DOUBLE            \n",
       "TTYPE3  = 'RCOMOV  '           / label for field   3                            \n",
       "TFORM3  = 'D       '           / data format of field: 8-byte DOUBLE            \n",
       "TUNIT3  = 'Mpc/h   '           / physical unit of field                         \n",
       "EXTNAME = '90078486.0'         / name of this binary table extension            \n",
       "RA      =     212.175094604492 / Right Ascension [deg]                          \n",
       "DEC     =     52.2912445068359 / Declination [deg]                              \n",
       "Z       =     3.33314189180965 / Redshift                                       "
      ]
     },
     "execution_count": 7,
     "metadata": {},
     "output_type": "execute_result"
    }
   ],
   "source": [
    "old_data[1].header"
   ]
  },
  {
   "cell_type": "code",
   "execution_count": 8,
   "metadata": {},
   "outputs": [
    {
     "data": {
      "text/plain": [
       "XTENSION= 'BINTABLE'           / binary table extension                         \n",
       "BITPIX  =                    8 / 8-bit bytes                                    \n",
       "NAXIS   =                    2 / 2-dimensional binary table                     \n",
       "NAXIS1  =                   24 / width of table in bytes                        \n",
       "NAXIS2  =                 1970 / number of rows in table                        \n",
       "PCOUNT  =                    0 / size of special data area                      \n",
       "GCOUNT  =                    1 / one data group (required keyword)              \n",
       "TFIELDS =                    3 / number of fields in each row                   \n",
       "TTYPE1  = 'LAMBDA  '           / label for field   1                            \n",
       "TFORM1  = 'D       '           / data format of field: 8-byte DOUBLE            \n",
       "TUNIT1  = 'Angstrom'           / physical unit of field                         \n",
       "TTYPE2  = 'DELTA_T '           / label for field   2                            \n",
       "TFORM2  = 'D       '           / data format of field: 8-byte DOUBLE            \n",
       "TTYPE3  = 'RCOMOV  '           / label for field   3                            \n",
       "TFORM3  = 'D       '           / data format of field: 8-byte DOUBLE            \n",
       "TUNIT3  = 'Mpc/h   '           / physical unit of field                         \n",
       "EXTNAME = '2354000902'         / name of this binary table extension            \n",
       "RA      =     213.552810668945 / Right Ascension [deg]                          \n",
       "DEC     =     51.5645942687988 / Declination [deg]                              \n",
       "Z       =     2.91993522644043 / Redshift                                       "
      ]
     },
     "execution_count": 8,
     "metadata": {},
     "output_type": "execute_result"
    }
   ],
   "source": [
    "data[1].header"
   ]
  },
  {
   "cell_type": "code",
   "execution_count": 9,
   "metadata": {},
   "outputs": [
    {
     "data": {
      "text/plain": [
       "FITS_rec([(4506.6,  0.32041982, 4181.91557086),\n",
       "          (4506.8,  0.32820452, 4182.03612559),\n",
       "          (4507. ,  0.32227549, 4182.15668033), ...,\n",
       "          (5199.2, -0.2579269 , 4558.19798216),\n",
       "          (5199.4, -0.09486843, 4558.29599698),\n",
       "          (5199.6,  0.06666617, 4558.39398181)],\n",
       "         dtype=(numpy.record, [('LAMBDA', '>f8'), ('DELTA_T', '>f8'), ('RCOMOV', '>f8')]))"
      ]
     },
     "execution_count": 9,
     "metadata": {},
     "output_type": "execute_result"
    }
   ],
   "source": [
    "old_data[1].data"
   ]
  },
  {
   "cell_type": "code",
   "execution_count": 10,
   "metadata": {},
   "outputs": [
    {
     "data": {
      "text/plain": [
       "FITS_rec([(4076.80151367,  0.32350647, 3905.09399802),\n",
       "          (4077.08862305,  0.308439  , 3905.29386896),\n",
       "          (4077.37597656,  0.27872723, 3905.49390431), ...,\n",
       "          (4703.06494141,  0.01087888, 4298.49430524),\n",
       "          (4703.41748047,  0.35212973, 4298.69429937),\n",
       "          (4703.77001953, -0.84220416, 4298.89422086)],\n",
       "         dtype=(numpy.record, [('LAMBDA', '>f8'), ('DELTA_T', '>f8'), ('RCOMOV', '>f8')]))"
      ]
     },
     "execution_count": 10,
     "metadata": {},
     "output_type": "execute_result"
    }
   ],
   "source": [
    "data[1].data"
   ]
  },
  {
   "cell_type": "code",
   "execution_count": 11,
   "metadata": {},
   "outputs": [
    {
     "data": {
      "text/plain": [
       "array([4076.80151367, 4077.08862305, 4077.37597656, 4077.66333008,\n",
       "       4077.95092773, 4078.23828125, 4078.52563477, 4078.81323242,\n",
       "       4079.10083008, 4079.38818359])"
      ]
     },
     "execution_count": 11,
     "metadata": {},
     "output_type": "execute_result"
    }
   ],
   "source": [
    "data[1].data['LAMBDA'][:10]"
   ]
  },
  {
   "cell_type": "code",
   "execution_count": 27,
   "metadata": {},
   "outputs": [
    {
     "data": {
      "text/plain": [
       "array([ 0.32350647,  0.308439  ,  0.27872723,  0.29058183,  0.30265771,\n",
       "        0.29285898, -0.95886295, -0.67127763, -0.79292283, -0.36988063,\n",
       "        0.18720689, -0.71703327, -0.37370286, -0.26765465, -0.11307438,\n",
       "       -0.99998037, -0.75640395, -1.        , -0.52950062,  0.32855395,\n",
       "       -0.86440256,  0.27912833,  0.30301377,  0.24863683,  0.28055085,\n",
       "       -0.11040626, -0.58820189,  0.29917197,  0.26774116,  0.28120009,\n",
       "        0.27677806,  0.26120094,  0.2730712 , -0.03059963,  0.25078228,\n",
       "        0.26532634,  0.25018551,  0.2387283 ,  0.19987205,  0.03585945,\n",
       "        0.18751045,  0.28717977,  0.2867271 ,  0.27296462,  0.23266972,\n",
       "        0.19562022,  0.09448056, -0.32932675,  0.27926891,  0.27339763,\n",
       "        0.27395927,  0.38393399, -0.9891798 , -0.9999833 , -0.9882855 ,\n",
       "       -0.57182982, -0.33518709,  0.28041015, -0.97865839, -1.        ,\n",
       "       -0.99999968, -1.        , -0.77001723, -0.99999934, -1.        ,\n",
       "       -1.        , -1.        ,  0.11102331,  0.20750495, -0.77677065,\n",
       "       -0.7278989 , -0.56903273, -0.62935626, -0.03071688,  0.28329312,\n",
       "        0.25205609,  0.26074181,  0.25549266,  0.27371667,  0.29874456,\n",
       "        0.29792984, -0.99463387, -0.38815316,  0.28295543,  0.23603126,\n",
       "        0.23068434,  0.27329445,  0.25500337,  0.23974083,  0.24976445,\n",
       "       -0.0542194 ,  0.24452068, -0.0641735 , -0.99655097, -0.93320045,\n",
       "       -0.78534976, -0.05105162,  0.19732089,  0.22986729,  0.24703   ,\n",
       "        0.07955451, -1.        , -0.79717806,  0.2697324 ,  0.27093267,\n",
       "        0.22129519,  0.2590341 ,  0.29494904,  0.2431863 ,  0.31385976,\n",
       "        0.16399759,  0.23296319, -0.40887501, -0.99999901, -0.00841116,\n",
       "       -0.99999646, -0.99999999,  0.25395698,  0.26027189,  0.3076351 ,\n",
       "        0.35686885,  0.30148849,  0.17223268, -0.99988652,  0.14265353,\n",
       "        0.32254883,  0.3148889 ,  0.31917513,  0.27206237, -0.94993681,\n",
       "       -0.94066691,  0.03071984,  0.24783483,  0.18846497,  0.30618654,\n",
       "        0.3279429 ,  0.3602634 ,  0.39224381,  0.32439802,  0.19287957,\n",
       "        0.31248646,  0.36998345,  0.28338526,  0.18651151, -0.99549919,\n",
       "       -0.23465746,  0.32053302, -0.07885945,  0.12462814,  0.13185941,\n",
       "       -0.99999976, -0.71069224, -0.74201155, -0.7689433 , -0.7483543 ,\n",
       "        0.0430294 , -0.43915153, -0.99994703,  0.24154098,  0.24187024,\n",
       "        0.16590712,  0.23712068,  0.27035116, -0.02534698, -1.        ,\n",
       "       -1.        ,  0.04139533, -0.87686259, -0.92895636, -0.30065657,\n",
       "       -0.24378366,  0.29269572,  0.26215074,  0.16769721,  0.18752357,\n",
       "       -0.9871534 , -1.        , -1.        , -0.81894918, -0.29957741,\n",
       "        0.22410322,  0.20440249, -0.3476299 ,  0.30358868,  0.31446387,\n",
       "        0.2471089 ,  0.20308912,  0.21257962, -0.68178033, -0.43641973,\n",
       "        0.17707577,  0.26550546,  0.29850934,  0.15857338, -0.31583399,\n",
       "       -0.99982383, -1.        , -1.        , -1.        ,  0.15038137,\n",
       "       -0.0073312 , -0.09975317,  0.25654577,  0.26756846,  0.32315373,\n",
       "        0.32244229,  0.25890001,  0.29686386,  0.16571658,  0.29645922,\n",
       "        0.23169207,  0.26520268,  0.24698263,  0.28770983,  0.2541343 ,\n",
       "        0.26168164,  0.27680545,  0.31205314, -0.53242216, -0.65435353,\n",
       "       -0.45853435, -0.22422534, -0.01166451, -1.        , -0.99998643,\n",
       "        0.25191974, -0.88355671,  0.04822687,  0.26775015,  0.31154129,\n",
       "        0.12903397,  0.20638987,  0.30562277, -0.55640722, -0.77967507,\n",
       "        0.24224027,  0.26127187,  0.26361141,  0.2675334 ,  0.26504276,\n",
       "        0.24914219,  0.25911484,  0.23250814,  0.29209973,  0.27129612,\n",
       "       -0.21482392, -0.57914032,  0.21860819,  0.22074318,  0.23166002,\n",
       "        0.21832187,  0.21970573, -0.67238691, -0.99999956, -1.        ,\n",
       "       -1.        ,  0.23174238,  0.26753351,  0.02005173, -0.37204617,\n",
       "        0.09334058,  0.27675069,  0.24151712,  0.25639155,  0.20474971,\n",
       "       -1.        , -1.        , -1.        , -0.77628023, -0.98488949,\n",
       "        0.26517491, -0.59926474, -0.96357747, -0.10075074,  0.20827811,\n",
       "        0.09703447,  0.04374961,  0.01288717, -0.08721043, -0.17175795,\n",
       "        0.04074211,  0.09876325,  0.24129872,  0.25069641,  0.28455433,\n",
       "        0.25778649,  0.28695924,  0.13952343, -0.99369169, -0.28561538,\n",
       "        0.21296288,  0.24135999,  0.28414762,  0.2772272 ,  0.25522641,\n",
       "        0.26202441,  0.30537685,  0.3082128 ,  0.29019395, -0.17190132,\n",
       "       -0.94967728, -0.97908136, -1.        ,  0.35243046,  0.33811652,\n",
       "        0.35245796,  0.31158185,  0.31291526,  0.27325643,  0.29856202,\n",
       "        0.27642578,  0.276414  ,  0.25521695,  0.25185245,  0.26499277,\n",
       "        0.24791675, -0.37062892, -0.58411963, -0.38843523, -0.53131677,\n",
       "        0.26492406,  0.33571188,  0.35725527,  0.35535391,  0.3322844 ,\n",
       "        0.18711143,  0.26141882,  0.32154958,  0.34000884,  0.30375031,\n",
       "        0.39400055,  0.42515288,  0.3575352 ,  0.33585504,  0.3557128 ,\n",
       "        0.335959  ,  0.29842189,  0.25520232,  0.33343748,  0.32949198,\n",
       "        0.33581699,  0.34930883,  0.36462075, -0.67723217, -1.        ,\n",
       "       -0.12394778, -0.25950347,  0.01308203, -0.99758564, -0.99999999,\n",
       "       -0.9999981 , -0.05914416,  0.26172252,  0.31378856,  0.30086068,\n",
       "        0.26723532, -0.25845759,  0.14066038, -0.99920051, -0.94526641,\n",
       "        0.2950577 , -0.0201178 ,  0.22229128, -0.06729761,  0.31163231,\n",
       "        0.32545624,  0.29975753,  0.29018326,  0.28422062,  0.28538646,\n",
       "       -0.44310573,  0.16469128, -0.31089305,  0.24058829,  0.27768657,\n",
       "        0.18304977,  0.23409376,  0.27535401,  0.27947412,  0.27526835,\n",
       "        0.30614346,  0.31327402,  0.32110901,  0.33894742,  0.26344438,\n",
       "        0.21560394,  0.31231752,  0.27732809,  0.22107698,  0.2899756 ,\n",
       "        0.27672193,  0.07603816,  0.13161673,  0.20428403,  0.19631489,\n",
       "        0.29065741,  0.26436303,  0.24279414,  0.22753168, -0.99927542,\n",
       "        0.21948378,  0.29779431,  0.27123894, -0.08670284, -0.09876823,\n",
       "       -0.98414835, -0.99999459, -0.15829848,  0.24772781,  0.297515  ,\n",
       "       -0.01279096, -0.69351065,  0.3349575 ,  0.36735243,  0.28096021,\n",
       "        0.21363911,  0.22352082, -0.99302596, -1.        , -0.81970672,\n",
       "        0.22335017,  0.22966104,  0.31379697,  0.11209494,  0.32902203,\n",
       "        0.38011777,  0.32168817,  0.26857888,  0.25551089,  0.25137534,\n",
       "        0.27171964,  0.29777756,  0.31855562,  0.32615099,  0.27784792,\n",
       "        0.24415852, -0.07113012,  0.30383366,  0.29634182,  0.36565981,\n",
       "        0.34993681,  0.41553563,  0.39105178,  0.1465658 , -0.12333062,\n",
       "        0.11713376,  0.27515465,  0.25579007, -0.99908497, -0.9999858 ,\n",
       "        0.16785221,  0.24886801,  0.14367782,  0.21142931,  0.25994246,\n",
       "        0.34120118,  0.32745789,  0.32427268,  0.34138892,  0.29636937,\n",
       "        0.30608016,  0.30078283,  0.29827273,  0.24427877,  0.25658366,\n",
       "       -0.99262014, -1.        , -0.93140763,  0.33567709,  0.33928048,\n",
       "        0.22235554,  0.34779023,  0.37403728,  0.33856976,  0.33158565,\n",
       "        0.3442256 ,  0.30264267,  0.36634844,  0.35788192,  0.29336203,\n",
       "        0.29044009,  0.29594874,  0.33669931,  0.32452357,  0.13756508,\n",
       "        0.2739252 ,  0.23571864,  0.35792931,  0.31477401,  0.28055451,\n",
       "       -0.57110257,  0.32016436,  0.30545537,  0.35922159, -0.0605291 ,\n",
       "        0.2651212 ,  0.34617732, -1.        , -1.        , -0.96001677])"
      ]
     },
     "execution_count": 27,
     "metadata": {},
     "output_type": "execute_result"
    }
   ],
   "source": [
    "data[1].data['DELTA_T'][:500]"
   ]
  },
  {
   "cell_type": "code",
   "execution_count": 13,
   "metadata": {},
   "outputs": [
    {
     "data": {
      "text/plain": [
       "array([3905.09399802, 3905.29386896, 3905.49390431, 3905.69386064,\n",
       "       3905.89398686, 3906.09394319, 3906.29389951, 3906.49395504,\n",
       "       3906.69399668, 3906.8938685 ])"
      ]
     },
     "execution_count": 13,
     "metadata": {},
     "output_type": "execute_result"
    }
   ],
   "source": [
    "data[1].data['RCOMOV'][:10]"
   ]
  },
  {
   "cell_type": "code",
   "execution_count": 14,
   "metadata": {},
   "outputs": [
    {
     "data": {
      "text/plain": [
       "(1161,)"
      ]
     },
     "execution_count": 14,
     "metadata": {},
     "output_type": "execute_result"
    }
   ],
   "source": [
    "ra_list = []\n",
    "for i in range(1,len(data)):\n",
    "    ra_list.append(data[i].header['RA'])\n",
    "ras = np.array(ra_list)\n",
    "ras.shape"
   ]
  },
  {
   "cell_type": "code",
   "execution_count": 15,
   "metadata": {},
   "outputs": [
    {
     "data": {
      "text/plain": [
       "(1161,)"
      ]
     },
     "execution_count": 15,
     "metadata": {},
     "output_type": "execute_result"
    }
   ],
   "source": [
    "dec_list = []\n",
    "for i in range(1,len(data)):\n",
    "    dec_list.append(data[i].header['DEC'])\n",
    "decs = np.array(dec_list)\n",
    "decs.shape"
   ]
  },
  {
   "cell_type": "code",
   "execution_count": 16,
   "metadata": {},
   "outputs": [
    {
     "data": {
      "text/plain": [
       "(1161,)"
      ]
     },
     "execution_count": 16,
     "metadata": {},
     "output_type": "execute_result"
    }
   ],
   "source": [
    "z_list = []\n",
    "for i in range(1,len(data)):\n",
    "    z_list.append(data[i].header['Z'])\n",
    "zs = np.array(z_list)\n",
    "zs.shape"
   ]
  },
  {
   "cell_type": "code",
   "execution_count": 17,
   "metadata": {},
   "outputs": [
    {
     "name": "stderr",
     "output_type": "stream",
     "text": [
      "/Applications/anaconda3/lib/python3.6/site-packages/ipykernel_launcher.py:7: RuntimeWarning: Mean of empty slice.\n",
      "  import sys\n",
      "/Applications/anaconda3/lib/python3.6/site-packages/numpy/core/_methods.py:85: RuntimeWarning: invalid value encountered in double_scalars\n",
      "  ret = ret.dtype.type(ret / rcount)\n"
     ]
    }
   ],
   "source": [
    "rcomov_list = []\n",
    "deltat_list = []\n",
    "avg_deltat = []\n",
    "for i in range(1,len(data)):\n",
    "    rcomov_list.append(data[i].data['RCOMOV'])\n",
    "    deltat_list.append(data[i].data['DELTA_T'])\n",
    "    avg_deltat.append(data[i].data['DELTA_T'].mean())"
   ]
  },
  {
   "cell_type": "code",
   "execution_count": 18,
   "metadata": {},
   "outputs": [
    {
     "data": {
      "text/plain": [
       "(1161,)"
      ]
     },
     "execution_count": 18,
     "metadata": {},
     "output_type": "execute_result"
    }
   ],
   "source": [
    "quasar_2d = SkyCoord(ra=ras*degree, dec=decs*degree, distance=zs*kpc, frame='icrs')\n",
    "quasar_2d.shape"
   ]
  },
  {
   "cell_type": "code",
   "execution_count": 19,
   "metadata": {},
   "outputs": [],
   "source": [
    "ra = quasar_2d[:].ra.value"
   ]
  },
  {
   "cell_type": "code",
   "execution_count": 20,
   "metadata": {},
   "outputs": [],
   "source": [
    "dec = quasar_2d[:].dec.value"
   ]
  },
  {
   "cell_type": "code",
   "execution_count": 21,
   "metadata": {},
   "outputs": [],
   "source": [
    "dis1 = quasar_2d[:].distance.value"
   ]
  },
  {
   "cell_type": "code",
   "execution_count": 22,
   "metadata": {},
   "outputs": [],
   "source": [
    "rel_dis1 = dis1/dis1.max()"
   ]
  },
  {
   "cell_type": "code",
   "execution_count": 23,
   "metadata": {},
   "outputs": [],
   "source": [
    "color1 = np.zeros((quasar_2d.shape[0], 4))\n",
    "color1[:,3] = rel_dis1"
   ]
  },
  {
   "cell_type": "code",
   "execution_count": 24,
   "metadata": {},
   "outputs": [
    {
     "data": {
      "image/png": "[encoded data removed]",
      "text/plain": [
       "<Figure size 720x360 with 1 Axes>"
      ]
     },
     "metadata": {
      "needs_background": "light"
     },
     "output_type": "display_data"
    }
   ],
   "source": [
    "plt.figure(figsize=(10,5))\n",
    "plt.scatter(ra, dec, s=rel_dis1, c=color1)\n",
    "# plt.scatter(lon2, lat2, s=0.5, c='k')\n",
    "plt.xlabel('RA')\n",
    "plt.ylabel('DEC')\n",
    "plt.show()"
   ]
  },
  {
   "cell_type": "code",
   "execution_count": null,
   "metadata": {},
   "outputs": [],
   "source": []
  }
 ],
 "metadata": {
  "kernelspec": {
   "display_name": "Python 3",
   "language": "python",
   "name": "python3"
  },
  "language_info": {
   "codemirror_mode": {
    "name": "ipython",
    "version": 3
   },
   "file_extension": ".py",
   "mimetype": "text/x-python",
   "name": "python",
   "nbconvert_exporter": "python",
   "pygments_lexer": "ipython3",
   "version": "3.6.7"
  }
 },
 "nbformat": 4,
 "nbformat_minor": 2
}
