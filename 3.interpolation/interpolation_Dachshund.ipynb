{
 "cells": [
  {
   "cell_type": "code",
   "execution_count": 1,
   "metadata": {},
   "outputs": [],
   "source": [
    "import numpy as np\n",
    "import math\n",
    "\n",
    "from astropy.io import fits\n",
    "from astropy.units import degree, kpc\n",
    "from astropy.coordinates import SkyCoord"
   ]
  },
  {
   "cell_type": "code",
   "execution_count": 2,
   "metadata": {},
   "outputs": [],
   "source": [
    "import matplotlib.pyplot as plt\n",
    "%matplotlib inline"
   ]
  },
  {
   "cell_type": "code",
   "execution_count": 5,
   "metadata": {},
   "outputs": [
    {
     "data": {
      "text/plain": [
       "1247"
      ]
     },
     "execution_count": 5,
     "metadata": {},
     "output_type": "execute_result"
    }
   ],
   "source": [
    "data = fits.open('delta_transmission_RMplate_old.fits')\n",
    "len(data)"
   ]
  },
  {
   "cell_type": "markdown",
   "metadata": {},
   "source": [
    "### Data Model"
   ]
  },
  {
   "cell_type": "markdown",
   "metadata": {},
   "source": [
    "**PrimaryHDU**"
   ]
  },
  {
   "cell_type": "code",
   "execution_count": 6,
   "metadata": {},
   "outputs": [
    {
     "data": {
      "text/plain": [
       "SIMPLE  =                    T / file does conform to FITS standard             \n",
       "BITPIX  =                   16 / number of bits per data pixel                  \n",
       "NAXIS   =                    0 / number of data axes                            \n",
       "EXTEND  =                    T / FITS dataset may contain extensions            \n",
       "COMMENT   FITS (Flexible Image Transport System) format is defined in 'Astronomy\n",
       "COMMENT   and Astrophysics', volume 376, page 359; bibcode: 2001A&A...376..359H "
      ]
     },
     "execution_count": 6,
     "metadata": {},
     "output_type": "execute_result"
    }
   ],
   "source": [
    "data[0].header"
   ]
  },
  {
   "cell_type": "markdown",
   "metadata": {},
   "source": [
    "**BinaryTableHDU**"
   ]
  },
  {
   "cell_type": "code",
   "execution_count": 7,
   "metadata": {},
   "outputs": [
    {
     "data": {
      "text/plain": [
       "XTENSION= 'BINTABLE'           / binary table extension                         \n",
       "BITPIX  =                    8 / 8-bit bytes                                    \n",
       "NAXIS   =                    2 / 2-dimensional binary table                     \n",
       "NAXIS1  =                   24 / width of table in bytes                        \n",
       "NAXIS2  =                 3466 / number of rows in table                        \n",
       "PCOUNT  =                    0 / size of special data area                      \n",
       "GCOUNT  =                    1 / one data group (required keyword)              \n",
       "TFIELDS =                    3 / number of fields in each row                   \n",
       "TTYPE1  = 'LAMBDA  '           / label for field   1                            \n",
       "TFORM1  = 'D       '           / data format of field: 8-byte DOUBLE            \n",
       "TUNIT1  = 'Angstrom'           / physical unit of field                         \n",
       "TTYPE2  = 'DELTA_T '           / label for field   2                            \n",
       "TFORM2  = 'D       '           / data format of field: 8-byte DOUBLE            \n",
       "TTYPE3  = 'RCOMOV  '           / label for field   3                            \n",
       "TFORM3  = 'D       '           / data format of field: 8-byte DOUBLE            \n",
       "TUNIT3  = 'Mpc/h   '           / physical unit of field                         \n",
       "EXTNAME = '90078486.0'         / name of this binary table extension            \n",
       "RA      =     212.175094604492 / Right Ascension [deg]                          \n",
       "DEC     =     52.2912445068359 / Declination [deg]                              \n",
       "Z       =     3.33314189180965 / Redshift                                       "
      ]
     },
     "execution_count": 7,
     "metadata": {},
     "output_type": "execute_result"
    }
   ],
   "source": [
    "data[1].header"
   ]
  },
  {
   "cell_type": "code",
   "execution_count": 8,
   "metadata": {},
   "outputs": [
    {
     "data": {
      "text/plain": [
       "(3466,)"
      ]
     },
     "execution_count": 8,
     "metadata": {},
     "output_type": "execute_result"
    }
   ],
   "source": [
    "data[1].data.shape"
   ]
  },
  {
   "cell_type": "code",
   "execution_count": 9,
   "metadata": {},
   "outputs": [
    {
     "data": {
      "text/plain": [
       "array([4506.6, 4506.8, 4507. , 4507.2, 4507.4, 4507.6, 4507.8, 4508. ,\n",
       "       4508.2, 4508.4])"
      ]
     },
     "execution_count": 9,
     "metadata": {},
     "output_type": "execute_result"
    }
   ],
   "source": [
    "data[1].data['LAMBDA'][:10]"
   ]
  },
  {
   "cell_type": "code",
   "execution_count": 10,
   "metadata": {},
   "outputs": [
    {
     "data": {
      "text/plain": [
       "array([0.32041982, 0.32820452, 0.32227549, 0.30720392, 0.32257604,\n",
       "       0.37425373, 0.41448467, 0.43779907, 0.44572165, 0.42081868])"
      ]
     },
     "execution_count": 10,
     "metadata": {},
     "output_type": "execute_result"
    }
   ],
   "source": [
    "data[1].data['DELTA_T'][:10]"
   ]
  },
  {
   "cell_type": "code",
   "execution_count": 11,
   "metadata": {},
   "outputs": [
    {
     "data": {
      "text/plain": [
       "array([4181.91557086, 4182.03612559, 4182.15668033, 4182.27723506,\n",
       "       4182.3977898 , 4182.51834453, 4182.63887691, 4182.75938488,\n",
       "       4182.87989285, 4183.00040082])"
      ]
     },
     "execution_count": 11,
     "metadata": {},
     "output_type": "execute_result"
    }
   ],
   "source": [
    "data[1].data['RCOMOV'][:10]"
   ]
  },
  {
   "cell_type": "markdown",
   "metadata": {},
   "source": [
    "## Getting Coordinates"
   ]
  },
  {
   "cell_type": "code",
   "execution_count": 12,
   "metadata": {},
   "outputs": [],
   "source": [
    "ra_mean = 213.704\n",
    "dec_mean = 53.083"
   ]
  },
  {
   "cell_type": "markdown",
   "metadata": {},
   "source": [
    "### Vikrant's codes"
   ]
  },
  {
   "cell_type": "code",
   "execution_count": 13,
   "metadata": {},
   "outputs": [],
   "source": [
    "x_list = []\n",
    "y_list = []\n",
    "z_list = []\n",
    "delta_list = []"
   ]
  },
  {
   "cell_type": "code",
   "execution_count": 14,
   "metadata": {},
   "outputs": [],
   "source": [
    "nskewers = 100\n",
    "ixs = np.random.choice(np.arange(1, len(data)), 1000, replace=False)\n",
    "\n",
    "result = []\n",
    "for i in ixs:\n",
    "    ra = (data[i].header['RA'] - ra_mean) * np.pi / 360\n",
    "    dec = (data[i].header['DEC'] - dec_mean) * np.pi / 360\n",
    "    rcomov = data[i].data['RCOMOV']\n",
    "    value = data[i].data['DELTA_T']\n",
    "    \n",
    "    x = np.sin(dec) * np.cos(ra) * rcomov\n",
    "    y = np.sin(dec) * np.sin(ra) * rcomov\n",
    "    z = np.cos(dec) * rcomov\n",
    "    \n",
    "    x_list.append(x)\n",
    "    y_list.append(y)\n",
    "    z_list.append(z)\n",
    "    delta_list.append(value)"
   ]
  },
  {
   "cell_type": "code",
   "execution_count": 15,
   "metadata": {},
   "outputs": [],
   "source": [
    "# coordinates\n",
    "x = np.hstack(x_list)\n",
    "y = np.hstack(y_list)\n",
    "z = np.hstack(z_list)\n",
    "delta = np.hstack(delta_list)"
   ]
  },
  {
   "cell_type": "code",
   "execution_count": 16,
   "metadata": {},
   "outputs": [],
   "source": [
    "# shifted cordinates\n",
    "x -= x.min() - 5\n",
    "y -= y.min() - 5\n",
    "z -= z.min() - 5"
   ]
  },
  {
   "cell_type": "code",
   "execution_count": 17,
   "metadata": {},
   "outputs": [],
   "source": [
    "# select a subsample\n",
    "ind = np.where(z < 500)[0]\n",
    "x = x[ind]\n",
    "y = y[ind]\n",
    "z = z[ind]\n",
    "delta = delta[ind]"
   ]
  },
  {
   "cell_type": "code",
   "execution_count": 18,
   "metadata": {},
   "outputs": [],
   "source": [
    "from plotly.offline import plot, iplot\n",
    "import plotly.graph_objs as go"
   ]
  },
  {
   "cell_type": "code",
   "execution_count": 22,
   "metadata": {},
   "outputs": [
    {
     "data": {
      "text/plain": [
       "(10.079317004719364, 121.2214001559968)"
      ]
     },
     "execution_count": 22,
     "metadata": {},
     "output_type": "execute_result"
    }
   ],
   "source": [
    "x.min(), x.max()"
   ]
  },
  {
   "cell_type": "code",
   "execution_count": 23,
   "metadata": {},
   "outputs": [
    {
     "data": {
      "text/plain": [
       "(5.0, 6.176953256762284)"
      ]
     },
     "execution_count": 23,
     "metadata": {},
     "output_type": "execute_result"
    }
   ],
   "source": [
    "y.min(), y.max()"
   ]
  },
  {
   "cell_type": "code",
   "execution_count": 24,
   "metadata": {},
   "outputs": [
    {
     "data": {
      "text/plain": [
       "(5.0, 499.99918018153903)"
      ]
     },
     "execution_count": 24,
     "metadata": {},
     "output_type": "execute_result"
    }
   ],
   "source": [
    "z.min(), z.max()"
   ]
  },
  {
   "cell_type": "code",
   "execution_count": 19,
   "metadata": {},
   "outputs": [
    {
     "data": {
      "text/plain": [
       "'file:///Users/yulong/Codes/astro-void/interpolation/temp-plot.html'"
      ]
     },
     "execution_count": 19,
     "metadata": {},
     "output_type": "execute_result"
    }
   ],
   "source": [
    "trace = go.Scatter3d(x=x, y=y, z=z, mode='markers')\n",
    "data_3d = [trace]\n",
    "\n",
    "fig = go.Figure(data=data_3d)\n",
    "plot(fig)"
   ]
  },
  {
   "cell_type": "code",
   "execution_count": 89,
   "metadata": {
    "collapsed": true
   },
   "outputs": [],
   "source": [
    "noise = 0.1 * np.ones(len(z))\n",
    "\n",
    "p = np.vstack([x.T, y.T, z.T, noise.T, delta.T]).T\n",
    "p.tofile('pixel_data.bin')\n",
    "# binaryData = np.vstack(result)"
   ]
  },
  {
   "cell_type": "code",
   "execution_count": 59,
   "metadata": {
    "collapsed": true
   },
   "outputs": [],
   "source": [
    "npx_x = np.floor((x.max() - x.min()) / 4.)\n",
    "npx_y = np.floor((y.max() - y.min()) / 4.)\n",
    "npx_z = np.floor((z.max() - z.min()) / 4.)"
   ]
  },
  {
   "cell_type": "code",
   "execution_count": 91,
   "metadata": {
    "collapsed": true
   },
   "outputs": [],
   "source": [
    "# write config file\n",
    "cf = open(\"void.cfg\", \"w\")\n",
    "cf.write(\"lx = %f\\n\" % (x.max() + 5))\n",
    "cf.write(\"ly = %f\\n\" % (y.max() + 5))\n",
    "cf.write(\"lz = %f\\n\" % (z.max() + 5))\n",
    "cf.write(\"num_pixels = %i\\n\" % len(x))\n",
    "cf.write(\"map_nx = %i\\n\" % npx_x)\n",
    "cf.write(\"map_ny = %i\\n\" % npx_y)\n",
    "cf.write(\"map_nz = %i\\n\" % npx_z)\n",
    "cf.write(\"corr_var_s = 0.05\\n\")\n",
    "cf.write(\"corr_l_perp = 2.5\\n\")\n",
    "cf.write(\"corr_l_para = 2.5\\n\")\n",
    "cf.write(\"pcg_tol = 1.0e-5\\n\")\n",
    "cf.write(\"pcg_max_iter = 1000\\n\")\n",
    "cf.close()"
   ]
  },
  {
   "cell_type": "code",
   "execution_count": 97,
   "metadata": {
    "collapsed": true
   },
   "outputs": [],
   "source": [
    "import subprocess"
   ]
  },
  {
   "cell_type": "code",
   "execution_count": 1,
   "metadata": {},
   "outputs": [],
   "source": [
    "subprocess.run(['./dachshund.exe', 'void.cfg'], stdout=subprocess.PIPE)"
   ]
  },
  {
   "cell_type": "code",
   "execution_count": 2,
   "metadata": {
    "scrolled": true
   },
   "outputs": [],
   "source": [
    "! ./dachshund.exe void.cfga"
   ]
  }
 ],
 "metadata": {
  "kernelspec": {
   "display_name": "Python 3",
   "language": "python",
   "name": "python3"
  },
  "language_info": {
   "codemirror_mode": {
    "name": "ipython",
    "version": 3
   },
   "file_extension": ".py",
   "mimetype": "text/x-python",
   "name": "python",
   "nbconvert_exporter": "python",
   "pygments_lexer": "ipython3",
   "version": "3.6.7"
  }
 },
 "nbformat": 4,
 "nbformat_minor": 2
}
