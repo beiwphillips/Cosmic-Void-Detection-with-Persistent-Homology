{
 "cells": [
  {
   "cell_type": "code",
   "execution_count": 1,
   "metadata": {},
   "outputs": [],
   "source": [
    "import numpy as np\n",
    "import scipy as sp\n",
    "from scipy.interpolate import griddata, RegularGridInterpolator\n",
    "\n",
    "from astropy.io import fits"
   ]
  },
  {
   "cell_type": "code",
   "execution_count": 2,
   "metadata": {},
   "outputs": [],
   "source": [
    "import matplotlib.pyplot as plt\n",
    "%matplotlib inline"
   ]
  },
  {
   "cell_type": "code",
   "execution_count": 3,
   "metadata": {},
   "outputs": [
    {
     "data": {
      "text/plain": [
       "1247"
      ]
     },
     "execution_count": 3,
     "metadata": {},
     "output_type": "execute_result"
    }
   ],
   "source": [
    "data = fits.open('delta_transmission_RMplate.fits')\n",
    "len(data)"
   ]
  },
  {
   "cell_type": "markdown",
   "metadata": {},
   "source": [
    "## Getting Coordinates"
   ]
  },
  {
   "cell_type": "code",
   "execution_count": 4,
   "metadata": {},
   "outputs": [],
   "source": [
    "ra_mean = 213.704\n",
    "dec_mean = 53.083"
   ]
  },
  {
   "cell_type": "code",
   "execution_count": 5,
   "metadata": {},
   "outputs": [],
   "source": [
    "def get_matrix(data):\n",
    "\n",
    "    ra_list, dec_list, z_list = [np.nan], [np.nan], [np.nan]\n",
    "\n",
    "    for i in range(1, len(data)):\n",
    "        header = data[i].header\n",
    "        ra_list.append(header['RA'])\n",
    "        dec_list.append(header['DEC'])\n",
    "\n",
    "    ra, dec = np.deg2rad(np.array(ra_list)), np.deg2rad(np.array(dec_list))\n",
    "    mean_ra, mean_dec = np.nanmean(ra), np.nanmean(dec)\n",
    "\n",
    "    k_par = np.array([np.sin(mean_dec) * np.cos(mean_ra), np.sin(mean_dec) * np.sin(mean_ra), np.cos(mean_dec)])\n",
    "    k_perp = np.array([-np.sin(mean_ra), np.cos(mean_ra), 0])\n",
    "\n",
    "    K = np.array([\n",
    "        [0, -k_perp[2], k_perp[1]],\n",
    "        [k_perp[2], 0, -k_perp[0]],\n",
    "        [-k_perp[1], k_perp[0], 0]\n",
    "    ])\n",
    "\n",
    "    R = np.eye(3) + np.sin(mean_dec) * K + (1 - np.cos(mean_dec)) * np.matmul(K, K)\n",
    "    Q = np.eye(3) - np.sin(mean_dec) * K + (1 - np.cos(mean_dec)) * np.matmul(K, K)\n",
    "\n",
    "    return Q"
   ]
  },
  {
   "cell_type": "code",
   "execution_count": 6,
   "metadata": {},
   "outputs": [],
   "source": [
    "def read_line(line):\n",
    "    ra = (line.header['RA']) * np.pi / 180\n",
    "    dec = (line.header['DEC']) * np.pi / 180\n",
    "    rcomov = line.data['RCOMOV']\n",
    "    value = line.data['DELTA_T']\n",
    "\n",
    "    x = np.sin(dec) * np.cos(ra) * rcomov\n",
    "    y = np.sin(dec) * np.sin(ra) * rcomov\n",
    "    z = np.cos(dec) * rcomov\n",
    "    v = value\n",
    "\n",
    "    return x, y, z, v"
   ]
  },
  {
   "cell_type": "code",
   "execution_count": 7,
   "metadata": {},
   "outputs": [],
   "source": [
    "def get_array(data):\n",
    "\n",
    "    x_list, y_list, z_list, v_list = [], [], [], []\n",
    "    for i in range(1, len(data)):\n",
    "        x, y, z, v = read_line(data[i])\n",
    "        x_list.append(x)\n",
    "        y_list.append(y)\n",
    "        z_list.append(z)\n",
    "        v_list.append(v)\n",
    "\n",
    "    # concatenating together\n",
    "    x = np.hstack(x_list)\n",
    "    y = np.hstack(y_list)\n",
    "    z = np.hstack(z_list)\n",
    "    v = np.hstack(v_list)\n",
    "\n",
    "    # rotating the points\n",
    "    x, y, z = np.dot(Q, np.array([x, y, z]))\n",
    "\n",
    "    # shifting cordinates\n",
    "    x -= x.min()\n",
    "    y -= y.min()\n",
    "    z -= z.min()\n",
    "\n",
    "    return x, y, z, v"
   ]
  },
  {
   "cell_type": "code",
   "execution_count": 8,
   "metadata": {},
   "outputs": [
    {
     "data": {
      "text/plain": [
       "array([[ 0.72393142, -0.18421634,  0.66482151],\n",
       "       [-0.18421634,  0.87707526,  0.44362522],\n",
       "       [-0.66482151, -0.44362522,  0.60100667]])"
      ]
     },
     "execution_count": 8,
     "metadata": {},
     "output_type": "execute_result"
    }
   ],
   "source": [
    "Q = get_matrix(data)\n",
    "Q"
   ]
  },
  {
   "cell_type": "code",
   "execution_count": 9,
   "metadata": {},
   "outputs": [
    {
     "data": {
      "text/plain": [
       "((2433528,), (2433528,), (2433528,), (2433528,))"
      ]
     },
     "execution_count": 9,
     "metadata": {},
     "output_type": "execute_result"
    }
   ],
   "source": [
    "x, y, z, v = get_array(data)\n",
    "x.shape, y.shape, z.shape, v.shape"
   ]
  },
  {
   "cell_type": "code",
   "execution_count": 10,
   "metadata": {},
   "outputs": [
    {
     "data": {
      "text/plain": [
       "(0.0, 268.99086363983884)"
      ]
     },
     "execution_count": 10,
     "metadata": {},
     "output_type": "execute_result"
    }
   ],
   "source": [
    "x.min(), x.max()"
   ]
  },
  {
   "cell_type": "code",
   "execution_count": 11,
   "metadata": {},
   "outputs": [
    {
     "data": {
      "text/plain": [
       "(0.0, 297.841541444388)"
      ]
     },
     "execution_count": 11,
     "metadata": {},
     "output_type": "execute_result"
    }
   ],
   "source": [
    "y.min(), y.max()"
   ]
  },
  {
   "cell_type": "code",
   "execution_count": 12,
   "metadata": {},
   "outputs": [
    {
     "data": {
      "text/plain": [
       "(0.0, 1160.0498469214522)"
      ]
     },
     "execution_count": 12,
     "metadata": {},
     "output_type": "execute_result"
    }
   ],
   "source": [
    "z.min(), z.max()"
   ]
  },
  {
   "cell_type": "code",
   "execution_count": 13,
   "metadata": {},
   "outputs": [],
   "source": [
    "xi = np.arange(0, 300, 1)\n",
    "yi = np.arange(0, 300, 1)\n",
    "zi = np.arange(0, 300, 1)"
   ]
  },
  {
   "cell_type": "code",
   "execution_count": 14,
   "metadata": {},
   "outputs": [],
   "source": [
    "xx, yy, zz = np.meshgrid(xi, yi, zi)"
   ]
  },
  {
   "cell_type": "code",
   "execution_count": 16,
   "metadata": {},
   "outputs": [
    {
     "data": {
      "text/plain": [
       "((300, 300, 300), (300, 300, 300), (300, 300, 300))"
      ]
     },
     "execution_count": 16,
     "metadata": {},
     "output_type": "execute_result"
    }
   ],
   "source": [
    "xx.shape, yy.shape, zz.shape"
   ]
  },
  {
   "cell_type": "code",
   "execution_count": null,
   "metadata": {},
   "outputs": [],
   "source": [
    "vv = griddata((x,y,z),v,(xx,yy,zz),method='linear')"
   ]
  },
  {
   "cell_type": "code",
   "execution_count": null,
   "metadata": {},
   "outputs": [],
   "source": [
    "np.save('vvl.npy', vv)"
   ]
  },
  {
   "cell_type": "code",
   "execution_count": null,
   "metadata": {},
   "outputs": [],
   "source": []
  }
 ],
 "metadata": {
  "kernelspec": {
   "display_name": "Python 3",
   "language": "python",
   "name": "python3"
  },
  "language_info": {
   "codemirror_mode": {
    "name": "ipython",
    "version": 3
   },
   "file_extension": ".py",
   "mimetype": "text/x-python",
   "name": "python",
   "nbconvert_exporter": "python",
   "pygments_lexer": "ipython3",
   "version": "3.6.7"
  }
 },
 "nbformat": 4,
 "nbformat_minor": 2
}
