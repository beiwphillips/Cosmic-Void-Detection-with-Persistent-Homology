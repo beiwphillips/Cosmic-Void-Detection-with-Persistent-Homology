{
 "cells": [
  {
   "cell_type": "code",
   "execution_count": 41,
   "metadata": {},
   "outputs": [],
   "source": [
    "import numpy as np\n",
    "import bisect\n",
    "\n",
    "from matplotlib import pyplot as plt\n",
    "import matplotlib"
   ]
  },
  {
   "cell_type": "code",
   "execution_count": 2,
   "metadata": {},
   "outputs": [],
   "source": [
    "from pixel2d import Pixel2D"
   ]
  },
  {
   "cell_type": "code",
   "execution_count": 3,
   "metadata": {},
   "outputs": [],
   "source": [
    "from topologicalunionfind import TopologicalUnionFind"
   ]
  },
  {
   "cell_type": "markdown",
   "metadata": {},
   "source": [
    "### Reading Slice"
   ]
  },
  {
   "cell_type": "code",
   "execution_count": 4,
   "metadata": {},
   "outputs": [
    {
     "data": {
      "text/plain": [
       "(87464,)"
      ]
     },
     "execution_count": 4,
     "metadata": {},
     "output_type": "execute_result"
    }
   ],
   "source": [
    "binary = np.fromfile('../cube/map.bin')\n",
    "binary.shape"
   ]
  },
  {
   "cell_type": "code",
   "execution_count": 5,
   "metadata": {},
   "outputs": [],
   "source": [
    "cube_shape = (26, 29, 116)"
   ]
  },
  {
   "cell_type": "code",
   "execution_count": 6,
   "metadata": {},
   "outputs": [
    {
     "data": {
      "text/plain": [
       "(26, 29, 116)"
      ]
     },
     "execution_count": 6,
     "metadata": {},
     "output_type": "execute_result"
    }
   ],
   "source": [
    "cube = binary.reshape(cube_shape)\n",
    "cube.shape"
   ]
  },
  {
   "cell_type": "code",
   "execution_count": 7,
   "metadata": {},
   "outputs": [
    {
     "data": {
      "text/plain": [
       "(26, 29)"
      ]
     },
     "execution_count": 7,
     "metadata": {},
     "output_type": "execute_result"
    }
   ],
   "source": [
    "aslice = cube[:,:,60]\n",
    "aslice.shape"
   ]
  },
  {
   "cell_type": "code",
   "execution_count": 8,
   "metadata": {},
   "outputs": [
    {
     "data": {
      "image/png": "[encoded data removed]",
      "text/plain": [
       "<Figure size 432x288 with 2 Axes>"
      ]
     },
     "metadata": {
      "needs_background": "light"
     },
     "output_type": "display_data"
    }
   ],
   "source": [
    "plt.imshow(aslice)\n",
    "plt.colorbar()\n",
    "plt.show()"
   ]
  },
  {
   "cell_type": "code",
   "execution_count": 9,
   "metadata": {},
   "outputs": [
    {
     "data": {
      "text/plain": [
       "(26, 29)"
      ]
     },
     "execution_count": 9,
     "metadata": {},
     "output_type": "execute_result"
    }
   ],
   "source": [
    "bslice = (aslice == 0) * 1\n",
    "bslice.shape"
   ]
  },
  {
   "cell_type": "code",
   "execution_count": 10,
   "metadata": {},
   "outputs": [
    {
     "data": {
      "image/png": "[encoded data removed]",
      "text/plain": [
       "<Figure size 432x288 with 2 Axes>"
      ]
     },
     "metadata": {
      "needs_background": "light"
     },
     "output_type": "display_data"
    }
   ],
   "source": [
    "plt.imshow(bslice)\n",
    "plt.colorbar()\n",
    "plt.show()"
   ]
  },
  {
   "cell_type": "markdown",
   "metadata": {},
   "source": [
    "### Getting Data"
   ]
  },
  {
   "cell_type": "code",
   "execution_count": 12,
   "metadata": {},
   "outputs": [],
   "source": [
    "reverse = True\n",
    "diagonal = False"
   ]
  },
  {
   "cell_type": "code",
   "execution_count": 13,
   "metadata": {},
   "outputs": [],
   "source": [
    "if reverse:\n",
    "    dataUF = aslice.max() - aslice + 1\n",
    "    dataPH = aslice.max() - aslice + 1\n",
    "else:\n",
    "    dataUF = aslice\n",
    "    dataPH = aslice - aslice.min() + 1"
   ]
  },
  {
   "cell_type": "markdown",
   "metadata": {},
   "source": [
    "### Generating Input File"
   ]
  },
  {
   "cell_type": "code",
   "execution_count": 14,
   "metadata": {},
   "outputs": [],
   "source": [
    "if dataPH.dtype == np.float_:\n",
    "    multiplier = 1e6\n",
    "else:\n",
    "    multiplier = 1"
   ]
  },
  {
   "cell_type": "code",
   "execution_count": 15,
   "metadata": {},
   "outputs": [],
   "source": [
    "dataPH = (dataPH * multiplier).astype(int)"
   ]
  },
  {
   "cell_type": "code",
   "execution_count": 16,
   "metadata": {},
   "outputs": [],
   "source": [
    "if reverse: \n",
    "    if diagonal:\n",
    "        ainput = 'slice2dr.txt'\n",
    "    else:\n",
    "        ainput = 'slice2dr2.txt'\n",
    "else:\n",
    "    if diagonal:\n",
    "        ainput = 'slice2d.txt'\n",
    "    else:\n",
    "        ainput = 'slice2d2.txt'"
   ]
  },
  {
   "cell_type": "code",
   "execution_count": 17,
   "metadata": {},
   "outputs": [],
   "source": [
    "def write2dPath(f, data, i, j, ni, nj):\n",
    "    if ni < 0 or nj < 0:\n",
    "        return\n",
    "    try:\n",
    "        f.write('1 {} {} {} {} {}\\n'.format(i, j, ni, nj, max(data[i, j], data[ni, nj])))\n",
    "    except:\n",
    "        pass"
   ]
  },
  {
   "cell_type": "code",
   "execution_count": 18,
   "metadata": {},
   "outputs": [],
   "source": [
    "with open(ainput, 'w') as f:\n",
    "    f.write(str(len(dataPH.shape))+'\\n')\n",
    "    for i in range(0, dataPH.shape[0]):\n",
    "        for j in range(0, dataPH.shape[1]):\n",
    "            f.write('0 {} {} {}\\n'.format(i, j, dataPH[i, j]))\n",
    "            write2dPath(f, dataPH, i, j, i+1, j)\n",
    "            write2dPath(f, dataPH, i, j, i, j+1)\n",
    "            if diagonal:\n",
    "                write2dPath(f, dataPH, i, j, i+1, j+1)\n",
    "                write2dPath(f, dataPH, i, j, i+1, j-1)"
   ]
  },
  {
   "cell_type": "markdown",
   "metadata": {},
   "source": [
    "### Running"
   ]
  },
  {
   "cell_type": "code",
   "execution_count": 19,
   "metadata": {},
   "outputs": [],
   "source": [
    "import subprocess"
   ]
  },
  {
   "cell_type": "code",
   "execution_count": 20,
   "metadata": {},
   "outputs": [
    {
     "data": {
      "text/plain": [
       "CompletedProcess(args=['./perseusMac', 'nmfsimtop', 'slice2dr2.txt', 'slice2dr2'], returncode=0)"
      ]
     },
     "execution_count": 20,
     "metadata": {},
     "output_type": "execute_result"
    }
   ],
   "source": [
    "subprocess.run(['./perseusMac', 'nmfsimtop', ainput, ainput[:-4]])"
   ]
  },
  {
   "cell_type": "markdown",
   "metadata": {},
   "source": [
    "### Reading Output File for Cubical"
   ]
  },
  {
   "cell_type": "code",
   "execution_count": 21,
   "metadata": {},
   "outputs": [],
   "source": [
    "if reverse: \n",
    "    if diagonal:\n",
    "        aoutput = 'slice2dr_0.txt'\n",
    "    else:\n",
    "        aoutput = 'slice2dr2_0.txt'\n",
    "else:\n",
    "    if diagonal:\n",
    "        aoutput = 'slice2d_0.txt'\n",
    "    else:\n",
    "        aoutput = 'slice2d2_0.txt'"
   ]
  },
  {
   "cell_type": "code",
   "execution_count": 22,
   "metadata": {},
   "outputs": [],
   "source": [
    "pd2 = []\n",
    "with open(aoutput) as f:\n",
    "    for l in f.readlines():\n",
    "        info = l.split()\n",
    "        start = int(info[0]) / multiplier\n",
    "        end = int(info[1]) / multiplier if int(info[1]) != -1 else -1\n",
    "        pd2.append((start, end))\n",
    "pd2 = sorted(pd2, key=lambda x:x[0])"
   ]
  },
  {
   "cell_type": "code",
   "execution_count": 58,
   "metadata": {},
   "outputs": [],
   "source": [
    "persistencePH = []\n",
    "for birth, death in pd2:\n",
    "    if reverse:\n",
    "        nbirth = aslice.max() - death + 1 if death != -1 else aslice.min() \n",
    "        ndeath = aslice.max() - birth + 1\n",
    "    else:\n",
    "        nbirth = birth + aslice.min() - 1\n",
    "        ndeath = death + aslice.min() - 1 if death != -1 else aslice.max()\n",
    "    persistencePH.append((nbirth, ndeath))"
   ]
  },
  {
   "cell_type": "markdown",
   "metadata": {},
   "source": [
    "### Creating Pixel Objects"
   ]
  },
  {
   "cell_type": "code",
   "execution_count": 60,
   "metadata": {},
   "outputs": [],
   "source": [
    "mat = []\n",
    "for i in range(dataUF.shape[0]):\n",
    "    row = []\n",
    "    for j in range(dataUF.shape[1]):\n",
    "        element = dataUF[i][j]\n",
    "        row.append(Pixel2D(i, j, element))\n",
    "    mat.append(row)"
   ]
  },
  {
   "cell_type": "code",
   "execution_count": 61,
   "metadata": {},
   "outputs": [],
   "source": [
    "arr = sorted([e for row in mat for e in row])"
   ]
  },
  {
   "cell_type": "markdown",
   "metadata": {},
   "source": [
    "### Getting Neighbors for a Pixel"
   ]
  },
  {
   "cell_type": "code",
   "execution_count": 62,
   "metadata": {},
   "outputs": [],
   "source": [
    "def append2DNeighbor(neighbors, x, y):\n",
    "    if x < 0 or y < 0:\n",
    "        return\n",
    "    try:\n",
    "        neighbors.append(mat[x][y])\n",
    "    except:\n",
    "        pass"
   ]
  },
  {
   "cell_type": "code",
   "execution_count": 63,
   "metadata": {},
   "outputs": [],
   "source": [
    "def get_neighbors(pixel, diagonal=False):\n",
    "    neighbors = []\n",
    "    x = pixel.getX()\n",
    "    y = pixel.getY()\n",
    "    append2DNeighbor(neighbors, x-1, y)\n",
    "    append2DNeighbor(neighbors, x+1, y)\n",
    "    append2DNeighbor(neighbors, x, y-1)\n",
    "    append2DNeighbor(neighbors, x, y+1)\n",
    "    if diagonal:\n",
    "        append2DNeighbor(neighbors, x-1, y-1)\n",
    "        append2DNeighbor(neighbors, x-1, y+1)\n",
    "        append2DNeighbor(neighbors, x+1, y-1)\n",
    "        append2DNeighbor(neighbors, x+1, y+1)\n",
    "    return neighbors"
   ]
  },
  {
   "cell_type": "code",
   "execution_count": 64,
   "metadata": {},
   "outputs": [
    {
     "data": {
      "text/plain": [
       "{2, 3, 4}"
      ]
     },
     "execution_count": 64,
     "metadata": {},
     "output_type": "execute_result"
    }
   ],
   "source": [
    "set([len(get_neighbors(pixel)) for pixel in arr])"
   ]
  },
  {
   "cell_type": "code",
   "execution_count": 65,
   "metadata": {},
   "outputs": [
    {
     "data": {
      "text/plain": [
       "{3, 5, 8}"
      ]
     },
     "execution_count": 65,
     "metadata": {},
     "output_type": "execute_result"
    }
   ],
   "source": [
    "set([len(get_neighbors(pixel, True)) for pixel in arr])"
   ]
  },
  {
   "cell_type": "markdown",
   "metadata": {},
   "source": [
    "### Creating Topological Union-find"
   ]
  },
  {
   "cell_type": "code",
   "execution_count": 66,
   "metadata": {},
   "outputs": [
    {
     "data": {
      "text/plain": [
       "<UnionFind:\n",
       "\telts=[],\n",
       "\tsiz=[],\n",
       "\tpar=[],\n",
       "n_elts=0,n_comps=0>"
      ]
     },
     "execution_count": 66,
     "metadata": {},
     "output_type": "execute_result"
    }
   ],
   "source": [
    "tuf = TopologicalUnionFind()\n",
    "tuf"
   ]
  },
  {
   "cell_type": "code",
   "execution_count": 67,
   "metadata": {},
   "outputs": [],
   "source": [
    "for pixel in arr:\n",
    "    tuf.add(pixel, pixel.getV())\n",
    "    for neighbor in get_neighbors(pixel, diagonal):\n",
    "        tuf.union(pixel, neighbor, pixel.getV())"
   ]
  },
  {
   "cell_type": "code",
   "execution_count": 68,
   "metadata": {},
   "outputs": [],
   "source": [
    "pd = tuf.persistence()"
   ]
  },
  {
   "cell_type": "code",
   "execution_count": 69,
   "metadata": {},
   "outputs": [],
   "source": [
    "persistenceUF = []\n",
    "for birth, death in pd:\n",
    "    if reverse:\n",
    "        nbirth = aslice.max() - death + 1 if np.isfinite(death) else aslice.min() \n",
    "        ndeath = aslice.max() - birth + 1\n",
    "    else:\n",
    "        nbirth = birth\n",
    "        ndeath = death if np.isfinite(death) else aslice.max()\n",
    "    persistenceUF.append((nbirth, ndeath))"
   ]
  },
  {
   "cell_type": "markdown",
   "metadata": {},
   "source": [
    "### Visualization"
   ]
  },
  {
   "cell_type": "code",
   "execution_count": 70,
   "metadata": {},
   "outputs": [],
   "source": [
    "y = np.arange(0, len(persistenceUF))"
   ]
  },
  {
   "cell_type": "code",
   "execution_count": 71,
   "metadata": {},
   "outputs": [],
   "source": [
    "xmin = [birth for birth, death in persistenceUF]\n",
    "xmax = [death for birth, death in persistenceUF]"
   ]
  },
  {
   "cell_type": "code",
   "execution_count": 72,
   "metadata": {},
   "outputs": [],
   "source": [
    "if reverse:\n",
    "    xlim = (max(xmax), min(xmin))\n",
    "else:\n",
    "    xlim = (min(xmin), max(xmax))"
   ]
  },
  {
   "cell_type": "code",
   "execution_count": 94,
   "metadata": {},
   "outputs": [
    {
     "data": {
      "image/png": "[encoded data removed]",
      "text/plain": [
       "<Figure size 1080x720 with 1 Axes>"
      ]
     },
     "metadata": {
      "needs_background": "light"
     },
     "output_type": "display_data"
    }
   ],
   "source": [
    "height = 2 + len(persistenceUF) // 10\n",
    "height = 10 if height > 10 else height\n",
    "plt.figure(figsize=(15,height))\n",
    "plt.hlines(y=y, xmin=xmin, xmax=xmax)\n",
    "plt.xlim(xlim[0], xlim[1])\n",
    "plt.gca().xaxis.set_major_locator(matplotlib.ticker.MultipleLocator())\n",
    "# plt.gca().yaxis.set_major_locator(matplotlib.ticker.MultipleLocator())\n",
    "plt.xlabel('Value')\n",
    "plt.ylabel('Connected Component ID')\n",
    "plt.show()"
   ]
  },
  {
   "cell_type": "code",
   "execution_count": 74,
   "metadata": {},
   "outputs": [],
   "source": [
    "xmin = [birth for birth, death in persistenceUF]\n",
    "xmax = [death for birth, death in persistenceUF]"
   ]
  },
  {
   "cell_type": "code",
   "execution_count": 75,
   "metadata": {},
   "outputs": [],
   "source": [
    "if reverse:\n",
    "    xlim = (max(xmax)+1, min(xmin)-1)\n",
    "    xmin, xmax = xmax, xmin\n",
    "else:\n",
    "    xlim = (min(xmin)-1, max(xmax)+1)"
   ]
  },
  {
   "cell_type": "code",
   "execution_count": 76,
   "metadata": {},
   "outputs": [
    {
     "data": {
      "image/png": "[encoded data removed]",
      "text/plain": [
       "<Figure size 720x504 with 1 Axes>"
      ]
     },
     "metadata": {
      "needs_background": "light"
     },
     "output_type": "display_data"
    }
   ],
   "source": [
    "plt.figure(figsize=(10,7))\n",
    "plt.scatter(xmin, xmax, c=np.array(xmax)-np.array(xmin), cmap='jet_r')\n",
    "plt.xlim(xlim[0], xlim[1])\n",
    "plt.ylim(xlim[0], xlim[1])\n",
    "plt.gca().xaxis.set_major_locator(matplotlib.ticker.MultipleLocator())\n",
    "plt.gca().yaxis.set_major_locator(matplotlib.ticker.MultipleLocator())\n",
    "plt.xlabel('Birth Time')\n",
    "plt.ylabel('Death Time')\n",
    "plt.plot([xlim[0], xlim[1]], [xlim[0], xlim[1]], c='grey')\n",
    "plt.show()"
   ]
  },
  {
   "cell_type": "markdown",
   "metadata": {},
   "source": [
    "### Visualization2"
   ]
  },
  {
   "cell_type": "code",
   "execution_count": 77,
   "metadata": {},
   "outputs": [],
   "source": [
    "y = np.arange(0, len(persistencePH))"
   ]
  },
  {
   "cell_type": "code",
   "execution_count": 78,
   "metadata": {},
   "outputs": [],
   "source": [
    "xmin = [birth for birth, death in persistencePH]\n",
    "xmax = [death for birth, death in persistencePH]"
   ]
  },
  {
   "cell_type": "code",
   "execution_count": 79,
   "metadata": {},
   "outputs": [],
   "source": [
    "if reverse:\n",
    "    xlim = (max(xmax), min(xmin))\n",
    "else:\n",
    "    xlim = (min(xmin), max(xmax))"
   ]
  },
  {
   "cell_type": "code",
   "execution_count": 91,
   "metadata": {},
   "outputs": [
    {
     "data": {
      "image/png": "[encoded data removed]",
      "text/plain": [
       "<Figure size 1080x720 with 1 Axes>"
      ]
     },
     "metadata": {
      "needs_background": "light"
     },
     "output_type": "display_data"
    }
   ],
   "source": [
    "height = 2 + len(persistencePH) // 10\n",
    "height = 10 if height > 10 else height\n",
    "plt.figure(figsize=(15,height))\n",
    "plt.hlines(y=y, xmin=xmin, xmax=xmax)\n",
    "plt.xlim(xlim[0], xlim[1])\n",
    "plt.gca().xaxis.set_major_locator(matplotlib.ticker.MultipleLocator())\n",
    "# plt.gca().yaxis.set_major_locator(matplotlib.ticker.MultipleLocator())\n",
    "plt.xlabel('Value')\n",
    "plt.ylabel('Connected Component ID')\n",
    "plt.show()"
   ]
  },
  {
   "cell_type": "code",
   "execution_count": 83,
   "metadata": {},
   "outputs": [],
   "source": [
    "xmin = [birth for birth, death in persistencePH]\n",
    "xmax = [death for birth, death in persistencePH]"
   ]
  },
  {
   "cell_type": "code",
   "execution_count": 84,
   "metadata": {},
   "outputs": [],
   "source": [
    "if reverse:\n",
    "    xlim = (max(xmax)+1, min(xmin)-1)\n",
    "    xmin, xmax = xmax, xmin\n",
    "else:\n",
    "    xlim = (min(xmin)-1, max(xmax)+1)"
   ]
  },
  {
   "cell_type": "code",
   "execution_count": 93,
   "metadata": {},
   "outputs": [
    {
     "data": {
      "image/png": "[encoded data removed]",
      "text/plain": [
       "<Figure size 720x504 with 1 Axes>"
      ]
     },
     "metadata": {
      "needs_background": "light"
     },
     "output_type": "display_data"
    }
   ],
   "source": [
    "plt.figure(figsize=(10,7))\n",
    "plt.scatter(xmin, xmax, c=np.array(xmax)-np.array(xmin), cmap='jet_r')\n",
    "plt.xlim(xlim[0], xlim[1])\n",
    "plt.ylim(xlim[0], xlim[1])\n",
    "plt.gca().xaxis.set_major_locator(matplotlib.ticker.MultipleLocator())\n",
    "plt.gca().yaxis.set_major_locator(matplotlib.ticker.MultipleLocator())\n",
    "plt.xlabel('Birth Time')\n",
    "plt.ylabel('Death Time')\n",
    "plt.plot([xlim[0], xlim[1]], [xlim[0], xlim[1]], c='grey')\n",
    "plt.show()"
   ]
  },
  {
   "cell_type": "code",
   "execution_count": null,
   "metadata": {},
   "outputs": [],
   "source": []
  }
 ],
 "metadata": {
  "kernelspec": {
   "display_name": "Python 3",
   "language": "python",
   "name": "python3"
  },
  "language_info": {
   "codemirror_mode": {
    "name": "ipython",
    "version": 3
   },
   "file_extension": ".py",
   "mimetype": "text/x-python",
   "name": "python",
   "nbconvert_exporter": "python",
   "pygments_lexer": "ipython3",
   "version": "3.6.7"
  }
 },
 "nbformat": 4,
 "nbformat_minor": 2
}
