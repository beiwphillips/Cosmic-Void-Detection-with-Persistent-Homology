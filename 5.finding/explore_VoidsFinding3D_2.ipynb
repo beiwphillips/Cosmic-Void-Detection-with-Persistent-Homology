{
 "cells": [
  {
   "cell_type": "code",
   "execution_count": 42,
   "metadata": {},
   "outputs": [],
   "source": [
    "import numpy as np\n",
    "import bisect\n",
    "\n",
    "from matplotlib import pyplot as plt\n",
    "import matplotlib"
   ]
  },
  {
   "cell_type": "code",
   "execution_count": 2,
   "metadata": {},
   "outputs": [],
   "source": [
    "from pixel3d import Pixel3D"
   ]
  },
  {
   "cell_type": "code",
   "execution_count": 3,
   "metadata": {},
   "outputs": [],
   "source": [
    "from topologicalunionfind import TopologicalUnionFind"
   ]
  },
  {
   "cell_type": "markdown",
   "metadata": {},
   "source": [
    "### Reading Slice"
   ]
  },
  {
   "cell_type": "code",
   "execution_count": 4,
   "metadata": {},
   "outputs": [
    {
     "data": {
      "text/plain": [
       "(87464,)"
      ]
     },
     "execution_count": 4,
     "metadata": {},
     "output_type": "execute_result"
    }
   ],
   "source": [
    "binary = np.fromfile('../cube/map.bin')\n",
    "binary.shape"
   ]
  },
  {
   "cell_type": "code",
   "execution_count": 5,
   "metadata": {},
   "outputs": [],
   "source": [
    "cube_shape = (26, 29, 116)"
   ]
  },
  {
   "cell_type": "code",
   "execution_count": 6,
   "metadata": {},
   "outputs": [
    {
     "data": {
      "text/plain": [
       "(26, 29, 116)"
      ]
     },
     "execution_count": 6,
     "metadata": {},
     "output_type": "execute_result"
    }
   ],
   "source": [
    "cube = binary.reshape(cube_shape)\n",
    "cube.shape"
   ]
  },
  {
   "cell_type": "markdown",
   "metadata": {},
   "source": [
    "### Counting Number of Islands"
   ]
  },
  {
   "cell_type": "code",
   "execution_count": 7,
   "metadata": {},
   "outputs": [],
   "source": [
    "import sys\n",
    "sys.setrecursionlimit(10000)"
   ]
  },
  {
   "cell_type": "code",
   "execution_count": 8,
   "metadata": {},
   "outputs": [
    {
     "data": {
      "text/plain": [
       "(26, 29, 116)"
      ]
     },
     "execution_count": 8,
     "metadata": {},
     "output_type": "execute_result"
    }
   ],
   "source": [
    "adata = (cube != 0) * 1\n",
    "adata.shape"
   ]
  },
  {
   "cell_type": "code",
   "execution_count": 9,
   "metadata": {},
   "outputs": [],
   "source": [
    "def numIslands(grid):\n",
    "    nIslands = 0\n",
    "    nx = grid.shape[0]\n",
    "    ny = grid.shape[1]\n",
    "    nz = grid.shape[2]\n",
    "    for i in range(nx):\n",
    "        for j in range(ny):\n",
    "            for k in range(nz):\n",
    "                if DFSsearch(grid, i, j, k):\n",
    "                    nIslands += 1\n",
    "    return nIslands"
   ]
  },
  {
   "cell_type": "code",
   "execution_count": 10,
   "metadata": {},
   "outputs": [],
   "source": [
    "def DFSsearch(grid, x, y, z):\n",
    "\n",
    "    if (grid[x][y][z] == 0):\n",
    "        return False\n",
    "    \n",
    "    grid[x][y][z] = 0\n",
    "    nx = grid.shape[0]\n",
    "    ny = grid.shape[1]\n",
    "    nz = grid.shape[2]\n",
    "    if (x != 0 and grid[x-1][y][z] == 1):\n",
    "        DFSsearch(grid, x-1, y, z)\n",
    "    if (x != nx-1 and grid[x+1][y][z] == 1):\n",
    "        DFSsearch(grid, x+1, y, z)\n",
    "    if (y != 0 and grid[x][y-1][z] == 1):\n",
    "        DFSsearch(grid, x, y-1, z)\n",
    "    if (y != ny-1 and grid[x][y+1][z] == 1):\n",
    "        DFSsearch(grid, x, y+1, z)\n",
    "    if (z != 0 and grid[x][y][z-1] == 1):\n",
    "        DFSsearch(grid, x, y, z-1)\n",
    "    if (z != nz-1 and grid[x][y][z+1] == 1):\n",
    "        DFSsearch(grid, x, y, z+1)\n",
    "    return True"
   ]
  },
  {
   "cell_type": "code",
   "execution_count": 11,
   "metadata": {},
   "outputs": [
    {
     "name": "stdout",
     "output_type": "stream",
     "text": [
      "0:10\n",
      "1\n",
      "8:18\n",
      "1\n",
      "16:26\n",
      "1\n",
      "24:34\n",
      "1\n",
      "32:42\n",
      "1\n",
      "40:50\n",
      "1\n",
      "48:58\n",
      "1\n",
      "56:66\n",
      "1\n",
      "64:74\n",
      "1\n",
      "72:82\n",
      "1\n",
      "80:90\n",
      "1\n",
      "88:98\n",
      "1\n",
      "96:106\n",
      "1\n",
      "104:114\n",
      "1\n",
      "112:116\n",
      "3\n"
     ]
    }
   ],
   "source": [
    "for i in range(0, adata.shape[2], 8):\n",
    "    zmin = i\n",
    "    zmax = i + 10 if i + 10 <= adata.shape[2] else adata.shape[2]\n",
    "    print('{}:{}'.format(zmin, zmax))\n",
    "    print(numIslands(adata[:,:,zmin:zmax].copy()))"
   ]
  },
  {
   "cell_type": "markdown",
   "metadata": {},
   "source": [
    "### Plotting Zeros"
   ]
  },
  {
   "cell_type": "code",
   "execution_count": 12,
   "metadata": {},
   "outputs": [
    {
     "data": {
      "text/plain": [
       "(26, 29, 116)"
      ]
     },
     "execution_count": 12,
     "metadata": {},
     "output_type": "execute_result"
    }
   ],
   "source": [
    "bdata = (cube == 0) * 1\n",
    "bdata.shape"
   ]
  },
  {
   "cell_type": "code",
   "execution_count": 13,
   "metadata": {},
   "outputs": [
    {
     "data": {
      "image/png": "[encoded data removed]",
      "text/plain": [
       "<Figure size 432x288 with 2 Axes>"
      ]
     },
     "metadata": {
      "needs_background": "light"
     },
     "output_type": "display_data"
    }
   ],
   "source": [
    "plt.imshow(bdata.sum(axis=2))\n",
    "plt.colorbar()\n",
    "plt.show()"
   ]
  },
  {
   "cell_type": "code",
   "execution_count": 14,
   "metadata": {},
   "outputs": [
    {
     "data": {
      "image/png": "[encoded data removed]",
      "text/plain": [
       "<Figure size 432x288 with 2 Axes>"
      ]
     },
     "metadata": {
      "needs_background": "light"
     },
     "output_type": "display_data"
    }
   ],
   "source": [
    "plt.imshow(cube[:,:,-1])\n",
    "plt.colorbar()\n",
    "plt.show()"
   ]
  },
  {
   "cell_type": "markdown",
   "metadata": {},
   "source": [
    "### Getting Data"
   ]
  },
  {
   "cell_type": "code",
   "execution_count": 15,
   "metadata": {},
   "outputs": [],
   "source": [
    "reverse = True\n",
    "diagonal = False"
   ]
  },
  {
   "cell_type": "code",
   "execution_count": 16,
   "metadata": {},
   "outputs": [],
   "source": [
    "if reverse:\n",
    "    dataUF = cube.max() - cube + 1\n",
    "    dataPH = cube.max() - cube + 1\n",
    "else:\n",
    "    dataUF = cube\n",
    "    dataPH = cube - cube.min() + 1"
   ]
  },
  {
   "cell_type": "markdown",
   "metadata": {},
   "source": [
    "### Generating Input File"
   ]
  },
  {
   "cell_type": "code",
   "execution_count": 17,
   "metadata": {},
   "outputs": [],
   "source": [
    "if dataPH.dtype == np.float_:\n",
    "    multiplier = 1e4\n",
    "else:\n",
    "    multiplier = 1"
   ]
  },
  {
   "cell_type": "code",
   "execution_count": 18,
   "metadata": {},
   "outputs": [],
   "source": [
    "dataPH = (dataPH * multiplier).astype(int)"
   ]
  },
  {
   "cell_type": "code",
   "execution_count": 19,
   "metadata": {},
   "outputs": [],
   "source": [
    "if reverse: \n",
    "    if diagonal:\n",
    "        ainput = 'cube3dr.txt'\n",
    "    else:\n",
    "        ainput = 'cube3dr2.txt'\n",
    "else:\n",
    "    if diagonal:\n",
    "        ainput = 'cube3d.txt'\n",
    "    else:\n",
    "        ainput = 'cube3d2.txt'"
   ]
  },
  {
   "cell_type": "code",
   "execution_count": 20,
   "metadata": {},
   "outputs": [],
   "source": [
    "def write3dPath(f, data, i, j, k, ni, nj, nk):\n",
    "    if ni < 0 or nj < 0 or nk < 0:\n",
    "        return\n",
    "    try:\n",
    "        f.write('1 {} {} {} {} {} {} {}\\n'.format(i, j, k, ni, nj, nk, max(data[i, j, k], data[ni, nj, nk])))\n",
    "    except:\n",
    "        pass"
   ]
  },
  {
   "cell_type": "code",
   "execution_count": 21,
   "metadata": {},
   "outputs": [],
   "source": [
    "with open(ainput, 'w') as f:\n",
    "    f.write(str(len(dataPH.shape))+'\\n')\n",
    "    for i in range(0, dataPH.shape[0]):\n",
    "        for j in range(0, dataPH.shape[1]):\n",
    "            for k in range(0, dataPH.shape[2]):\n",
    "                f.write('0 {} {} {} {}\\n'.format(i, j, k, dataPH[i, j, k]))\n",
    "                write3dPath(f, dataPH, i, j, k, i+1, j, k)\n",
    "                write3dPath(f, dataPH, i, j, k, i, j+1, k)\n",
    "                write3dPath(f, dataPH, i, j, k, i, j, k+1)\n",
    "                if diagonal:\n",
    "                    write3dPath(f, dataPH, i, j, k, i, j+1, k+1)\n",
    "                    write3dPath(f, dataPH, i, j, k, i, j+1, k-1)\n",
    "                    write3dPath(f, dataPH, i, j, k, i+1, j, k+1)\n",
    "                    write3dPath(f, dataPH, i, j, k, i+1, j, k-1)\n",
    "                    write3dPath(f, dataPH, i, j, k, i+1, j+1, k)\n",
    "                    write3dPath(f, dataPH, i, j, k, i+1, j-1, k)\n",
    "                    write3dPath(f, dataPH, i, j, k, i+1, j+1, k+1)\n",
    "                    write3dPath(f, dataPH, i, j, k, i+1, j-1, k+1)\n",
    "                    write3dPath(f, dataPH, i, j, k, i-1, j+1, k+1)\n",
    "                    write3dPath(f, dataPH, i, j, k, i-1, j-1, k+1)"
   ]
  },
  {
   "cell_type": "markdown",
   "metadata": {},
   "source": [
    "### Running"
   ]
  },
  {
   "cell_type": "code",
   "execution_count": 22,
   "metadata": {},
   "outputs": [],
   "source": [
    "import subprocess"
   ]
  },
  {
   "cell_type": "code",
   "execution_count": 23,
   "metadata": {},
   "outputs": [
    {
     "data": {
      "text/plain": [
       "CompletedProcess(args=['./perseusMac', 'nmfsimtop', 'cube3dr2.txt', 'cube3dr2'], returncode=0)"
      ]
     },
     "execution_count": 23,
     "metadata": {},
     "output_type": "execute_result"
    }
   ],
   "source": [
    "subprocess.run(['./perseusMac', 'nmfsimtop', ainput, ainput[:-4]])"
   ]
  },
  {
   "cell_type": "markdown",
   "metadata": {},
   "source": [
    "### Reading Output File"
   ]
  },
  {
   "cell_type": "code",
   "execution_count": 24,
   "metadata": {},
   "outputs": [],
   "source": [
    "if reverse: \n",
    "    if diagonal:\n",
    "        aoutput = 'cube3dr_0.txt'\n",
    "    else:\n",
    "        aoutput = 'cube3dr2_0.txt'\n",
    "else:\n",
    "    if diagonal:\n",
    "        aoutput = 'cube3d_0.txt'\n",
    "    else:\n",
    "        aoutput = 'cube3d2_0.txt'"
   ]
  },
  {
   "cell_type": "code",
   "execution_count": 25,
   "metadata": {},
   "outputs": [],
   "source": [
    "pd2 = []\n",
    "with open(aoutput) as f:\n",
    "    for l in f.readlines():\n",
    "        info = l.split()\n",
    "        start = int(info[0]) / multiplier\n",
    "        end = int(info[1]) / multiplier if int(info[1]) != -1 else -1\n",
    "        pd2.append((start, end))\n",
    "pd2 = sorted(pd2, key=lambda x:x[0])"
   ]
  },
  {
   "cell_type": "code",
   "execution_count": 27,
   "metadata": {},
   "outputs": [],
   "source": [
    "persistencePH = []\n",
    "for birth, death in pd2:\n",
    "    if reverse:\n",
    "        nbirth = cube.max() - death + 1 if death != -1 else cube.min() \n",
    "        ndeath = cube.max() - birth + 1\n",
    "    else:\n",
    "        nbirth = birth + cube.min() - 1\n",
    "        ndeath = death + cube.min() - 1 if death != -1 else cube.max()\n",
    "    persistencePH.append((nbirth, ndeath))"
   ]
  },
  {
   "cell_type": "markdown",
   "metadata": {},
   "source": [
    "### Creating Pixel Objects"
   ]
  },
  {
   "cell_type": "code",
   "execution_count": 28,
   "metadata": {},
   "outputs": [],
   "source": [
    "mat = []\n",
    "for i in range(dataUF.shape[0]):\n",
    "    aslice = []\n",
    "    for j in range(dataUF.shape[1]):\n",
    "        row = []\n",
    "        for k in range(dataUF.shape[2]):\n",
    "            element = dataUF[i][j][k]\n",
    "            row.append(Pixel3D(i, j, k, element))\n",
    "        aslice.append(row)\n",
    "    mat.append(aslice)"
   ]
  },
  {
   "cell_type": "code",
   "execution_count": 29,
   "metadata": {},
   "outputs": [],
   "source": [
    "arr = sorted([e for aslice in mat for row in aslice for e in row])"
   ]
  },
  {
   "cell_type": "markdown",
   "metadata": {},
   "source": [
    "### Getting Neighbors for a Pixel"
   ]
  },
  {
   "cell_type": "code",
   "execution_count": 30,
   "metadata": {},
   "outputs": [],
   "source": [
    "def append3DNeighbor(neighbors, x, y, z):\n",
    "    if x < 0 or y < 0 or z < 0:\n",
    "        return\n",
    "    try:\n",
    "        neighbors.append(mat[x][y][z])\n",
    "    except:\n",
    "        pass"
   ]
  },
  {
   "cell_type": "code",
   "execution_count": 31,
   "metadata": {},
   "outputs": [],
   "source": [
    "def get_neighbors(pixel, diagonal=False):\n",
    "    neighbors = []\n",
    "    x = pixel.getX()\n",
    "    y = pixel.getY()\n",
    "    z = pixel.getZ()\n",
    "    append3DNeighbor(neighbors, x-1, y, z)\n",
    "    append3DNeighbor(neighbors, x+1, y, z)\n",
    "    append3DNeighbor(neighbors, x, y-1, z)\n",
    "    append3DNeighbor(neighbors, x, y+1, z)\n",
    "    append3DNeighbor(neighbors, x, y, z-1)\n",
    "    append3DNeighbor(neighbors, x, y, z+1)\n",
    "    if diagonal:\n",
    "        append3DNeighbor(neighbors, x-1, y-1, z-1)\n",
    "        append3DNeighbor(neighbors, x-1, y-1, z)\n",
    "        append3DNeighbor(neighbors, x-1, y-1, z+1)\n",
    "        append3DNeighbor(neighbors, x-1, y, z-1)\n",
    "        append3DNeighbor(neighbors, x-1, y, z+1)\n",
    "        append3DNeighbor(neighbors, x-1, y+1, z-1)\n",
    "        append3DNeighbor(neighbors, x-1, y+1, z)\n",
    "        append3DNeighbor(neighbors, x-1, y+1, z+1)\n",
    "        append3DNeighbor(neighbors, x, y+1, z+1)\n",
    "        append3DNeighbor(neighbors, x, y-1, z+1)\n",
    "        append3DNeighbor(neighbors, x, y+1, z-1)\n",
    "        append3DNeighbor(neighbors, x, y-1, z-1)\n",
    "        append3DNeighbor(neighbors, x+1, y-1, z-1)\n",
    "        append3DNeighbor(neighbors, x+1, y-1, z)\n",
    "        append3DNeighbor(neighbors, x+1, y-1, z+1)\n",
    "        append3DNeighbor(neighbors, x+1, y, z-1)\n",
    "        append3DNeighbor(neighbors, x+1, y, z+1)\n",
    "        append3DNeighbor(neighbors, x+1, y+1, z-1)\n",
    "        append3DNeighbor(neighbors, x+1, y+1, z)\n",
    "        append3DNeighbor(neighbors, x+1, y+1, z+1)\n",
    "    return neighbors"
   ]
  },
  {
   "cell_type": "code",
   "execution_count": 32,
   "metadata": {},
   "outputs": [
    {
     "data": {
      "text/plain": [
       "{3, 4, 5, 6}"
      ]
     },
     "execution_count": 32,
     "metadata": {},
     "output_type": "execute_result"
    }
   ],
   "source": [
    "set([len(get_neighbors(pixel)) for pixel in arr])"
   ]
  },
  {
   "cell_type": "code",
   "execution_count": 33,
   "metadata": {},
   "outputs": [
    {
     "data": {
      "text/plain": [
       "{7, 11, 17, 26}"
      ]
     },
     "execution_count": 33,
     "metadata": {},
     "output_type": "execute_result"
    }
   ],
   "source": [
    "set([len(get_neighbors(pixel, True)) for pixel in arr])"
   ]
  },
  {
   "cell_type": "markdown",
   "metadata": {},
   "source": [
    "### Creating Topological Union-find"
   ]
  },
  {
   "cell_type": "code",
   "execution_count": 34,
   "metadata": {},
   "outputs": [
    {
     "data": {
      "text/plain": [
       "<UnionFind:\n",
       "\telts=[],\n",
       "\tsiz=[],\n",
       "\tpar=[],\n",
       "n_elts=0,n_comps=0>"
      ]
     },
     "execution_count": 34,
     "metadata": {},
     "output_type": "execute_result"
    }
   ],
   "source": [
    "tuf = TopologicalUnionFind()\n",
    "tuf"
   ]
  },
  {
   "cell_type": "code",
   "execution_count": 35,
   "metadata": {},
   "outputs": [],
   "source": [
    "for pixel in arr:\n",
    "    tuf.add(pixel, pixel.getV())\n",
    "    for neighbor in get_neighbors(pixel, diagonal):\n",
    "        tuf.union(pixel, neighbor, pixel.getV())"
   ]
  },
  {
   "cell_type": "code",
   "execution_count": 36,
   "metadata": {},
   "outputs": [],
   "source": [
    "pd = tuf.persistence()"
   ]
  },
  {
   "cell_type": "code",
   "execution_count": 37,
   "metadata": {},
   "outputs": [],
   "source": [
    "persistenceUF = []\n",
    "for birth, death in pd:\n",
    "    if reverse:\n",
    "        nbirth = cube.max() - death + 1 if np.isfinite(death) else cube.min() \n",
    "        ndeath = cube.max() - birth + 1\n",
    "    else:\n",
    "        nbirth = birth\n",
    "        ndeath = death if np.isfinite(death) else cube.max()\n",
    "    persistenceUF.append((nbirth, ndeath))"
   ]
  },
  {
   "cell_type": "markdown",
   "metadata": {},
   "source": [
    "### Visualization"
   ]
  },
  {
   "cell_type": "code",
   "execution_count": 38,
   "metadata": {},
   "outputs": [],
   "source": [
    "y = np.arange(0, len(persistenceUF))"
   ]
  },
  {
   "cell_type": "code",
   "execution_count": 39,
   "metadata": {},
   "outputs": [],
   "source": [
    "xmin = [birth for birth, death in persistenceUF]\n",
    "xmax = [death for birth, death in persistenceUF]"
   ]
  },
  {
   "cell_type": "code",
   "execution_count": 40,
   "metadata": {},
   "outputs": [],
   "source": [
    "if reverse:\n",
    "    xlim = (max(xmax), min(xmin))\n",
    "else:\n",
    "    xlim = (min(xmin), max(xmax))"
   ]
  },
  {
   "cell_type": "code",
   "execution_count": 57,
   "metadata": {
    "scrolled": false
   },
   "outputs": [
    {
     "data": {
      "image/png": "[encoded data removed]",
      "text/plain": [
       "<Figure size 1080x720 with 1 Axes>"
      ]
     },
     "metadata": {
      "needs_background": "light"
     },
     "output_type": "display_data"
    }
   ],
   "source": [
    "height = 2 + len(persistenceUF) // 10\n",
    "height = 10 if height > 10 else height\n",
    "plt.figure(figsize=(15,height))\n",
    "plt.hlines(y=y, xmin=xmin, xmax=xmax)\n",
    "plt.xlim(xlim[0], xlim[1])\n",
    "plt.gca().xaxis.set_major_locator(matplotlib.ticker.MultipleLocator())\n",
    "# plt.gca().yaxis.set_major_locator(matplotlib.ticker.MultipleLocator((len(persistenceUF) // 10)))\n",
    "plt.xlabel('Value')\n",
    "plt.ylabel('Connected Component ID')\n",
    "plt.show()"
   ]
  },
  {
   "cell_type": "code",
   "execution_count": 58,
   "metadata": {},
   "outputs": [],
   "source": [
    "xmin = [birth for birth, death in persistenceUF]\n",
    "xmax = [death for birth, death in persistenceUF]"
   ]
  },
  {
   "cell_type": "code",
   "execution_count": 59,
   "metadata": {},
   "outputs": [],
   "source": [
    "if reverse:\n",
    "    xlim = (max(xmax)+1, min(xmin)-1)\n",
    "    xmin, xmax = xmax, xmin\n",
    "else:\n",
    "    xlim = (min(xmin)-1, max(xmax)+1)"
   ]
  },
  {
   "cell_type": "code",
   "execution_count": 60,
   "metadata": {},
   "outputs": [
    {
     "data": {
      "image/png": "[encoded data removed]",
      "text/plain": [
       "<Figure size 720x504 with 1 Axes>"
      ]
     },
     "metadata": {
      "needs_background": "light"
     },
     "output_type": "display_data"
    }
   ],
   "source": [
    "plt.figure(figsize=(10,7))\n",
    "plt.scatter(xmin, xmax, c=np.array(xmax)-np.array(xmin), cmap='jet_r')\n",
    "plt.xlim(xlim[0], xlim[1])\n",
    "plt.ylim(xlim[0], xlim[1])\n",
    "plt.gca().xaxis.set_major_locator(matplotlib.ticker.MultipleLocator())\n",
    "plt.gca().yaxis.set_major_locator(matplotlib.ticker.MultipleLocator())\n",
    "plt.xlabel('Birth Time')\n",
    "plt.ylabel('Death Time')\n",
    "plt.plot([xlim[0], xlim[1]], [xlim[0], xlim[1]], c='grey')\n",
    "plt.show()"
   ]
  },
  {
   "cell_type": "markdown",
   "metadata": {},
   "source": [
    "### Visualization2"
   ]
  },
  {
   "cell_type": "code",
   "execution_count": 61,
   "metadata": {},
   "outputs": [],
   "source": [
    "y = np.arange(0, len(persistencePH))"
   ]
  },
  {
   "cell_type": "code",
   "execution_count": 62,
   "metadata": {},
   "outputs": [],
   "source": [
    "xmin = [birth for birth, death in persistencePH]\n",
    "xmax = [death for birth, death in persistencePH]"
   ]
  },
  {
   "cell_type": "code",
   "execution_count": 63,
   "metadata": {},
   "outputs": [],
   "source": [
    "if reverse:\n",
    "    xlim = (max(xmax), min(xmin))\n",
    "else:\n",
    "    xlim = (min(xmin), max(xmax))"
   ]
  },
  {
   "cell_type": "code",
   "execution_count": 64,
   "metadata": {},
   "outputs": [
    {
     "data": {
      "image/png": "[encoded data removed]",
      "text/plain": [
       "<Figure size 1080x720 with 1 Axes>"
      ]
     },
     "metadata": {
      "needs_background": "light"
     },
     "output_type": "display_data"
    }
   ],
   "source": [
    "height = 2 + len(persistencePH) // 10\n",
    "height = 10 if height > 10 else height\n",
    "plt.figure(figsize=(15,height))\n",
    "plt.hlines(y=y, xmin=xmin, xmax=xmax)\n",
    "plt.xlim(xlim[0], xlim[1])\n",
    "plt.gca().xaxis.set_major_locator(matplotlib.ticker.MultipleLocator())\n",
    "# plt.gca().yaxis.set_major_locator(matplotlib.ticker.MultipleLocator())\n",
    "plt.xlabel('Value')\n",
    "plt.ylabel('Connected Component ID')\n",
    "plt.show()"
   ]
  },
  {
   "cell_type": "code",
   "execution_count": 65,
   "metadata": {},
   "outputs": [],
   "source": [
    "xmin = [birth for birth, death in persistencePH]\n",
    "xmax = [death for birth, death in persistencePH]"
   ]
  },
  {
   "cell_type": "code",
   "execution_count": 66,
   "metadata": {},
   "outputs": [],
   "source": [
    "if reverse:\n",
    "    xlim = (max(xmax)+1, min(xmin)-1)\n",
    "    xmin, xmax = xmax, xmin\n",
    "else:\n",
    "    xlim = (min(xmin)-1, max(xmax)+1)"
   ]
  },
  {
   "cell_type": "code",
   "execution_count": 67,
   "metadata": {},
   "outputs": [
    {
     "data": {
      "image/png": "[encoded data removed]",
      "text/plain": [
       "<Figure size 720x504 with 1 Axes>"
      ]
     },
     "metadata": {
      "needs_background": "light"
     },
     "output_type": "display_data"
    }
   ],
   "source": [
    "plt.figure(figsize=(10,7))\n",
    "plt.scatter(xmin, xmax, c=np.array(xmax)-np.array(xmin), cmap='jet_r')\n",
    "plt.xlim(xlim[0], xlim[1])\n",
    "plt.ylim(xlim[0], xlim[1])\n",
    "plt.gca().xaxis.set_major_locator(matplotlib.ticker.MultipleLocator())\n",
    "plt.gca().yaxis.set_major_locator(matplotlib.ticker.MultipleLocator())\n",
    "plt.xlabel('Birth Time')\n",
    "plt.ylabel('Death Time')\n",
    "plt.plot([xlim[0], xlim[1]], [xlim[0], xlim[1]], c='grey')\n",
    "plt.show()"
   ]
  },
  {
   "cell_type": "code",
   "execution_count": null,
   "metadata": {},
   "outputs": [],
   "source": []
  }
 ],
 "metadata": {
  "kernelspec": {
   "display_name": "Python 3",
   "language": "python",
   "name": "python3"
  },
  "language_info": {
   "codemirror_mode": {
    "name": "ipython",
    "version": 3
   },
   "file_extension": ".py",
   "mimetype": "text/x-python",
   "name": "python",
   "nbconvert_exporter": "python",
   "pygments_lexer": "ipython3",
   "version": "3.6.7"
  }
 },
 "nbformat": 4,
 "nbformat_minor": 2
}
