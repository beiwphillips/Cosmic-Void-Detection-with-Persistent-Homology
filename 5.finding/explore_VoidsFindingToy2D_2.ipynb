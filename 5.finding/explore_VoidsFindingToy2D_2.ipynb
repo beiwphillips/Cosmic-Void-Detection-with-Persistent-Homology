{
 "cells": [
  {
   "cell_type": "code",
   "execution_count": 2,
   "metadata": {},
   "outputs": [],
   "source": [
    "import numpy as np\n",
    "import bisect\n",
    "\n",
    "from matplotlib import pyplot as plt\n",
    "import matplotlib"
   ]
  },
  {
   "cell_type": "code",
   "execution_count": 3,
   "metadata": {},
   "outputs": [],
   "source": [
    "from pixel2d import Pixel2D"
   ]
  },
  {
   "cell_type": "code",
   "execution_count": 4,
   "metadata": {},
   "outputs": [],
   "source": [
    "from topologicalunionfind import TopologicalUnionFind"
   ]
  },
  {
   "cell_type": "markdown",
   "metadata": {},
   "source": [
    "### Reading Slice"
   ]
  },
  {
   "cell_type": "code",
   "execution_count": 4,
   "metadata": {},
   "outputs": [
    {
     "data": {
      "text/plain": [
       "array([[1, 3, 8],\n",
       "       [5, 7, 6],\n",
       "       [9, 4, 2]])"
      ]
     },
     "execution_count": 4,
     "metadata": {},
     "output_type": "execute_result"
    }
   ],
   "source": [
    "aslice = np.array([[1,3,8], [5,7,6], [9,4,2]])\n",
    "aslice"
   ]
  },
  {
   "cell_type": "code",
   "execution_count": 5,
   "metadata": {},
   "outputs": [
    {
     "data": {
      "image/png": "[encoded data removed]",
      "text/plain": [
       "<Figure size 432x288 with 2 Axes>"
      ]
     },
     "metadata": {
      "needs_background": "light"
     },
     "output_type": "display_data"
    }
   ],
   "source": [
    "plt.imshow(aslice)\n",
    "plt.colorbar()\n",
    "plt.show()"
   ]
  },
  {
   "cell_type": "markdown",
   "metadata": {},
   "source": [
    "### Getting Data"
   ]
  },
  {
   "cell_type": "code",
   "execution_count": 6,
   "metadata": {},
   "outputs": [],
   "source": [
    "reverse = True\n",
    "diagonal = False"
   ]
  },
  {
   "cell_type": "code",
   "execution_count": 7,
   "metadata": {},
   "outputs": [
    {
     "data": {
      "text/plain": [
       "(3, 3)"
      ]
     },
     "execution_count": 7,
     "metadata": {},
     "output_type": "execute_result"
    }
   ],
   "source": [
    "if reverse:\n",
    "    data = aslice.max() - aslice + 1\n",
    "else:\n",
    "    data = aslice\n",
    "data.shape"
   ]
  },
  {
   "cell_type": "code",
   "execution_count": 8,
   "metadata": {},
   "outputs": [
    {
     "data": {
      "text/plain": [
       "array([[9, 7, 2],\n",
       "       [5, 3, 4],\n",
       "       [1, 6, 8]])"
      ]
     },
     "execution_count": 8,
     "metadata": {},
     "output_type": "execute_result"
    }
   ],
   "source": [
    "data"
   ]
  },
  {
   "cell_type": "markdown",
   "metadata": {},
   "source": [
    "### Generating Input File"
   ]
  },
  {
   "cell_type": "code",
   "execution_count": 206,
   "metadata": {},
   "outputs": [],
   "source": [
    "if reverse: \n",
    "    if diagonal:\n",
    "        ainput = 'toy2dr.txt'\n",
    "    else:\n",
    "        ainput = 'toy2dr2.txt'\n",
    "else:\n",
    "    if diagonal:\n",
    "        ainput = 'toy2d.txt'\n",
    "    else:\n",
    "        ainput = 'toy2d2.txt'"
   ]
  },
  {
   "cell_type": "code",
   "execution_count": 207,
   "metadata": {},
   "outputs": [],
   "source": [
    "def write2dPath(f, data, i, j, ni, nj):\n",
    "    if ni < 0 or nj < 0:\n",
    "        return\n",
    "    try:\n",
    "        f.write('1 {} {} {} {} {}\\n'.format(i, j, ni, nj, max(data[i, j], data[ni, nj])))\n",
    "    except:\n",
    "        pass"
   ]
  },
  {
   "cell_type": "code",
   "execution_count": 208,
   "metadata": {},
   "outputs": [],
   "source": [
    "with open(ainput, 'w') as f:\n",
    "    f.write(str(len(data.shape))+'\\n')\n",
    "    for i in range(0, data.shape[0]):\n",
    "        for j in range(0, data.shape[1]):\n",
    "            f.write('0 {} {} {}\\n'.format(i, j, data[i, j]))\n",
    "            write2dPath(f, data, i, j, i+1, j)\n",
    "            write2dPath(f, data, i, j, i, j+1)\n",
    "            if diagonal:\n",
    "                write2dPath(f, data, i, j, i+1, j+1)\n",
    "                write2dPath(f, data, i, j, i+1, j-1)"
   ]
  },
  {
   "cell_type": "markdown",
   "metadata": {},
   "source": [
    "### Running"
   ]
  },
  {
   "cell_type": "code",
   "execution_count": 209,
   "metadata": {},
   "outputs": [],
   "source": [
    "import subprocess"
   ]
  },
  {
   "cell_type": "code",
   "execution_count": 210,
   "metadata": {},
   "outputs": [
    {
     "data": {
      "text/plain": [
       "CompletedProcess(args=['./perseusMac', 'nmfsimtop', 'toy2dr2.txt', 'toy2dr2'], returncode=0)"
      ]
     },
     "execution_count": 210,
     "metadata": {},
     "output_type": "execute_result"
    }
   ],
   "source": [
    "subprocess.run(['./perseusMac', 'nmfsimtop', ainput, ainput[:-4]])"
   ]
  },
  {
   "cell_type": "markdown",
   "metadata": {},
   "source": [
    "### Reading Output File"
   ]
  },
  {
   "cell_type": "code",
   "execution_count": 211,
   "metadata": {},
   "outputs": [],
   "source": [
    "if reverse: \n",
    "    if diagonal:\n",
    "        aoutput = 'toy2dr_0.txt'\n",
    "    else:\n",
    "        aoutput = 'toy2dr2_0.txt'\n",
    "else:\n",
    "    if diagonal:\n",
    "        aoutput = 'toy2d_0.txt'\n",
    "    else:\n",
    "        aoutput = 'toy2d2_0.txt'"
   ]
  },
  {
   "cell_type": "code",
   "execution_count": 212,
   "metadata": {},
   "outputs": [
    {
     "data": {
      "text/plain": [
       "[(1, -1), (2, 5), (3, 4)]"
      ]
     },
     "execution_count": 212,
     "metadata": {},
     "output_type": "execute_result"
    }
   ],
   "source": [
    "pd2 = []\n",
    "with open(aoutput) as f:\n",
    "    for l in f.readlines():\n",
    "        info = l.split()\n",
    "        pd2.append((int(info[0]), int(info[1])))\n",
    "pd2 = sorted(pd2, key=lambda x:x[0])\n",
    "pd2"
   ]
  },
  {
   "cell_type": "code",
   "execution_count": 213,
   "metadata": {},
   "outputs": [
    {
     "data": {
      "text/plain": [
       "[(1, 9), (5, 8), (6, 7)]"
      ]
     },
     "execution_count": 213,
     "metadata": {},
     "output_type": "execute_result"
    }
   ],
   "source": [
    "persistencePH = []\n",
    "for birth, death in pd2:\n",
    "    if reverse:\n",
    "        nbirth = aslice.max() - death + 1 if death != -1 else aslice.min() \n",
    "        ndeath = aslice.max() - birth + 1\n",
    "    else:\n",
    "        nbirth = birth + aslice.min() - 1\n",
    "        ndeath = death + aslice.min() - 1 if death != -1 else aslice.max()\n",
    "    persistencePH.append((nbirth, ndeath))\n",
    "persistencePH"
   ]
  },
  {
   "cell_type": "markdown",
   "metadata": {},
   "source": [
    "### Creating Pixel Objects"
   ]
  },
  {
   "cell_type": "code",
   "execution_count": 9,
   "metadata": {},
   "outputs": [],
   "source": [
    "mat = []\n",
    "for i in range(data.shape[0]):\n",
    "    row = []\n",
    "    for j in range(data.shape[1]):\n",
    "        element = data[i][j]\n",
    "        row.append(Pixel2D(i, j, element))\n",
    "    mat.append(row)"
   ]
  },
  {
   "cell_type": "code",
   "execution_count": 10,
   "metadata": {},
   "outputs": [
    {
     "data": {
      "text/plain": [
       "[Pixel: [coordinates: (2, 0); value: 1],\n",
       " Pixel: [coordinates: (0, 2); value: 2],\n",
       " Pixel: [coordinates: (1, 1); value: 3],\n",
       " Pixel: [coordinates: (1, 2); value: 4],\n",
       " Pixel: [coordinates: (1, 0); value: 5],\n",
       " Pixel: [coordinates: (2, 1); value: 6],\n",
       " Pixel: [coordinates: (0, 1); value: 7],\n",
       " Pixel: [coordinates: (2, 2); value: 8],\n",
       " Pixel: [coordinates: (0, 0); value: 9]]"
      ]
     },
     "execution_count": 10,
     "metadata": {},
     "output_type": "execute_result"
    }
   ],
   "source": [
    "arr = sorted([e for row in mat for e in row])\n",
    "arr"
   ]
  },
  {
   "cell_type": "markdown",
   "metadata": {},
   "source": [
    "### Getting Neighbors for a Pixel"
   ]
  },
  {
   "cell_type": "code",
   "execution_count": 11,
   "metadata": {},
   "outputs": [],
   "source": [
    "def append2DNeighbor(neighbors, x, y):\n",
    "    if x < 0 or y < 0:\n",
    "        return\n",
    "    try:\n",
    "        neighbors.append(mat[x][y])\n",
    "    except:\n",
    "        pass"
   ]
  },
  {
   "cell_type": "code",
   "execution_count": 12,
   "metadata": {},
   "outputs": [],
   "source": [
    "def get_neighbors(pixel, diagonal=False):\n",
    "    neighbors = []\n",
    "    x = pixel.getX()\n",
    "    y = pixel.getY()\n",
    "    append2DNeighbor(neighbors, x-1, y)\n",
    "    append2DNeighbor(neighbors, x+1, y)\n",
    "    append2DNeighbor(neighbors, x, y-1)\n",
    "    append2DNeighbor(neighbors, x, y+1)\n",
    "    if diagonal:\n",
    "        append2DNeighbor(neighbors, x-1, y-1)\n",
    "        append2DNeighbor(neighbors, x-1, y+1)\n",
    "        append2DNeighbor(neighbors, x+1, y-1)\n",
    "        append2DNeighbor(neighbors, x+1, y+1)\n",
    "    return neighbors"
   ]
  },
  {
   "cell_type": "code",
   "execution_count": 13,
   "metadata": {},
   "outputs": [
    {
     "data": {
      "text/plain": [
       "{2, 3, 4}"
      ]
     },
     "execution_count": 13,
     "metadata": {},
     "output_type": "execute_result"
    }
   ],
   "source": [
    "set([len(get_neighbors(pixel)) for pixel in arr])"
   ]
  },
  {
   "cell_type": "code",
   "execution_count": 14,
   "metadata": {},
   "outputs": [
    {
     "data": {
      "text/plain": [
       "{3, 5, 8}"
      ]
     },
     "execution_count": 14,
     "metadata": {},
     "output_type": "execute_result"
    }
   ],
   "source": [
    "set([len(get_neighbors(pixel, True)) for pixel in arr])"
   ]
  },
  {
   "cell_type": "markdown",
   "metadata": {},
   "source": [
    "### Creating Topological Union-find"
   ]
  },
  {
   "cell_type": "code",
   "execution_count": 15,
   "metadata": {},
   "outputs": [
    {
     "data": {
      "text/plain": [
       "<UnionFind:\n",
       "\telts=[],\n",
       "\tsiz=[],\n",
       "\tpar=[],\n",
       "n_elts=0,n_comps=0>"
      ]
     },
     "execution_count": 15,
     "metadata": {},
     "output_type": "execute_result"
    }
   ],
   "source": [
    "tuf = TopologicalUnionFind()\n",
    "tuf"
   ]
  },
  {
   "cell_type": "code",
   "execution_count": 16,
   "metadata": {},
   "outputs": [],
   "source": [
    "for pixel in arr:\n",
    "    tuf.add(pixel, pixel.getV())\n",
    "    for neighbor in get_neighbors(pixel, diagonal):\n",
    "        tuf.union(pixel, neighbor, pixel.getV())"
   ]
  },
  {
   "cell_type": "code",
   "execution_count": 17,
   "metadata": {},
   "outputs": [
    {
     "data": {
      "text/plain": [
       "[(1, inf), (2, 5), (3, 4)]"
      ]
     },
     "execution_count": 17,
     "metadata": {},
     "output_type": "execute_result"
    }
   ],
   "source": [
    "pd = tuf.persistence()\n",
    "pd"
   ]
  },
  {
   "cell_type": "code",
   "execution_count": 18,
   "metadata": {},
   "outputs": [
    {
     "data": {
      "text/plain": [
       "[(1, 9), (5, 8), (6, 7)]"
      ]
     },
     "execution_count": 18,
     "metadata": {},
     "output_type": "execute_result"
    }
   ],
   "source": [
    "persistenceUF = []\n",
    "for birth, death in pd:\n",
    "    if reverse:\n",
    "        nbirth = aslice.max() - death + 1 if np.isfinite(death) else aslice.min() \n",
    "        ndeath = aslice.max() - birth + 1\n",
    "    else:\n",
    "        nbirth = birth\n",
    "        ndeath = death if np.isfinite(death) else aslice.max()\n",
    "    persistenceUF.append((nbirth, ndeath))\n",
    "persistenceUF"
   ]
  },
  {
   "cell_type": "markdown",
   "metadata": {},
   "source": [
    "### Visualization"
   ]
  },
  {
   "cell_type": "code",
   "execution_count": 224,
   "metadata": {},
   "outputs": [],
   "source": [
    "y = np.arange(0, len(persistenceUF))"
   ]
  },
  {
   "cell_type": "code",
   "execution_count": 225,
   "metadata": {},
   "outputs": [],
   "source": [
    "xmin = [birth for birth, death in persistenceUF]\n",
    "xmax = [death for birth, death in persistenceUF]"
   ]
  },
  {
   "cell_type": "code",
   "execution_count": 226,
   "metadata": {},
   "outputs": [],
   "source": [
    "if reverse:\n",
    "    xlim = (max(xmax), min(xmin))\n",
    "else:\n",
    "    xlim = (min(xmin), max(xmax))"
   ]
  },
  {
   "cell_type": "code",
   "execution_count": 227,
   "metadata": {
    "scrolled": false
   },
   "outputs": [
    {
     "data": {
      "image/png": "[encoded data removed]",
      "text/plain": [
       "<Figure size 1080x144 with 1 Axes>"
      ]
     },
     "metadata": {
      "needs_background": "light"
     },
     "output_type": "display_data"
    }
   ],
   "source": [
    "height = 2 + len(persistenceUF) // 10\n",
    "plt.figure(figsize=(15,height))\n",
    "plt.hlines(y=y, xmin=xmin, xmax=xmax)\n",
    "plt.xlim(xlim[0], xlim[1])\n",
    "plt.gca().xaxis.set_major_locator(matplotlib.ticker.MultipleLocator())\n",
    "plt.gca().yaxis.set_major_locator(matplotlib.ticker.MultipleLocator())\n",
    "plt.xlabel('Value')\n",
    "plt.ylabel('Connected Component ID')\n",
    "plt.show()"
   ]
  },
  {
   "cell_type": "code",
   "execution_count": 228,
   "metadata": {},
   "outputs": [],
   "source": [
    "xmin = [birth for birth, death in persistenceUF]\n",
    "xmax = [death for birth, death in persistenceUF]"
   ]
  },
  {
   "cell_type": "code",
   "execution_count": 229,
   "metadata": {},
   "outputs": [],
   "source": [
    "if reverse:\n",
    "    xlim = (max(xmax)+1, min(xmin)-1)\n",
    "    xmin, xmax = xmax, xmin\n",
    "else:\n",
    "    xlim = (min(xmin)-1, max(xmax)+1)"
   ]
  },
  {
   "cell_type": "code",
   "execution_count": 230,
   "metadata": {},
   "outputs": [
    {
     "data": {
      "image/png": "[encoded data removed]",
      "text/plain": [
       "<Figure size 720x504 with 1 Axes>"
      ]
     },
     "metadata": {
      "needs_background": "light"
     },
     "output_type": "display_data"
    }
   ],
   "source": [
    "plt.figure(figsize=(10,7))\n",
    "plt.scatter(xmin, xmax)\n",
    "plt.vlines(x=xmin, ymin=xmin, ymax=xmax, colors='C0')\n",
    "plt.xlim(xlim[0], xlim[1])\n",
    "plt.ylim(xlim[0], xlim[1])\n",
    "plt.gca().xaxis.set_major_locator(matplotlib.ticker.MultipleLocator())\n",
    "plt.gca().yaxis.set_major_locator(matplotlib.ticker.MultipleLocator())\n",
    "plt.xlabel('Birth Time')\n",
    "plt.ylabel('Death Time')\n",
    "plt.plot([xlim[0], xlim[1]], [xlim[0], xlim[1]], c='grey')\n",
    "plt.show()"
   ]
  },
  {
   "cell_type": "markdown",
   "metadata": {},
   "source": [
    "### Visualization2"
   ]
  },
  {
   "cell_type": "code",
   "execution_count": 231,
   "metadata": {},
   "outputs": [],
   "source": [
    "y = np.arange(0, len(persistencePH))"
   ]
  },
  {
   "cell_type": "code",
   "execution_count": 232,
   "metadata": {},
   "outputs": [],
   "source": [
    "xmin = [birth for birth, death in persistencePH]\n",
    "xmax = [death for birth, death in persistencePH]"
   ]
  },
  {
   "cell_type": "code",
   "execution_count": 233,
   "metadata": {},
   "outputs": [],
   "source": [
    "if reverse:\n",
    "    xlim = (max(xmax), min(xmin))\n",
    "else:\n",
    "    xlim = (min(xmin), max(xmax))"
   ]
  },
  {
   "cell_type": "code",
   "execution_count": 234,
   "metadata": {},
   "outputs": [
    {
     "data": {
      "image/png": "[encoded data removed]",
      "text/plain": [
       "<Figure size 1080x144 with 1 Axes>"
      ]
     },
     "metadata": {
      "needs_background": "light"
     },
     "output_type": "display_data"
    }
   ],
   "source": [
    "height = 2 + len(persistencePH) // 10\n",
    "plt.figure(figsize=(15,height))\n",
    "plt.hlines(y=y, xmin=xmin, xmax=xmax)\n",
    "plt.xlim(xlim[0], xlim[1])\n",
    "plt.gca().xaxis.set_major_locator(matplotlib.ticker.MultipleLocator())\n",
    "plt.gca().yaxis.set_major_locator(matplotlib.ticker.MultipleLocator())\n",
    "plt.xlabel('Value')\n",
    "plt.ylabel('Connected Component ID')\n",
    "plt.show()"
   ]
  },
  {
   "cell_type": "code",
   "execution_count": 235,
   "metadata": {},
   "outputs": [],
   "source": [
    "xmin = [birth for birth, death in persistencePH]\n",
    "xmax = [death for birth, death in persistencePH]"
   ]
  },
  {
   "cell_type": "code",
   "execution_count": 236,
   "metadata": {},
   "outputs": [],
   "source": [
    "if reverse:\n",
    "    xlim = (max(xmax)+1, min(xmin)-1)\n",
    "    xmin, xmax = xmax, xmin\n",
    "else:\n",
    "    xlim = (min(xmin)-1, max(xmax)+1)"
   ]
  },
  {
   "cell_type": "code",
   "execution_count": 237,
   "metadata": {},
   "outputs": [
    {
     "data": {
      "image/png": "[encoded data removed]",
      "text/plain": [
       "<Figure size 720x504 with 1 Axes>"
      ]
     },
     "metadata": {
      "needs_background": "light"
     },
     "output_type": "display_data"
    }
   ],
   "source": [
    "plt.figure(figsize=(10,7))\n",
    "plt.scatter(xmin, xmax)\n",
    "plt.vlines(x=xmin, ymin=xmin, ymax=xmax, colors='C0')\n",
    "plt.xlim(xlim[0], xlim[1])\n",
    "plt.ylim(xlim[0], xlim[1])\n",
    "plt.gca().xaxis.set_major_locator(matplotlib.ticker.MultipleLocator())\n",
    "plt.gca().yaxis.set_major_locator(matplotlib.ticker.MultipleLocator())\n",
    "plt.xlabel('Birth Time')\n",
    "plt.ylabel('Death Time')\n",
    "plt.plot([xlim[0], xlim[1]], [xlim[0], xlim[1]], c='grey')\n",
    "plt.show()"
   ]
  },
  {
   "cell_type": "code",
   "execution_count": 20,
   "metadata": {},
   "outputs": [
    {
     "data": {
      "image/png": "[encoded data removed]",
      "text/plain": [
       "<Figure size 720x504 with 1 Axes>"
      ]
     },
     "metadata": {
      "needs_background": "light"
     },
     "output_type": "display_data"
    }
   ],
   "source": [
    "xlim = [-0.2, 5.8]\n",
    "\n",
    "plt.figure(figsize=(10,7))\n",
    "plt.scatter(0, 2.5, marker='o', color='chartreuse', s=80)\n",
    "plt.scatter(0, 3, marker='o', color='gold', s=80)\n",
    "plt.scatter(0, 3.2, marker='o', color='skyblue', s=80)\n",
    "plt.scatter(0, 3.7, marker='o', color='hotpink', s=80)\n",
    "plt.scatter(0, 5.6, marker='o', color='red', s=80)\n",
    "plt.scatter(4.2, 5.6, marker='v', color='darkviolet', s=80)\n",
    "plt.xlabel('Birth Time')\n",
    "plt.ylabel('Death Time')\n",
    "plt.plot([xlim[0], xlim[1]], [xlim[0], xlim[1]], c='grey')\n",
    "plt.xlim(xlim[0], xlim[1])\n",
    "plt.ylim(xlim[0], xlim[1])\n",
    "plt.show()"
   ]
  },
  {
   "cell_type": "code",
   "execution_count": null,
   "metadata": {},
   "outputs": [],
   "source": []
  }
 ],
 "metadata": {
  "kernelspec": {
   "display_name": "Python 3",
   "language": "python",
   "name": "python3"
  },
  "language_info": {
   "codemirror_mode": {
    "name": "ipython",
    "version": 3
   },
   "file_extension": ".py",
   "mimetype": "text/x-python",
   "name": "python",
   "nbconvert_exporter": "python",
   "pygments_lexer": "ipython3",
   "version": "3.6.7"
  }
 },
 "nbformat": 4,
 "nbformat_minor": 2
}
