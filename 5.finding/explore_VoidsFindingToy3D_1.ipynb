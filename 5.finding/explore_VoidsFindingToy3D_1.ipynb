{
 "cells": [
  {
   "cell_type": "code",
   "execution_count": 32,
   "metadata": {},
   "outputs": [],
   "source": [
    "import numpy as np\n",
    "import bisect\n",
    "\n",
    "from matplotlib import pyplot as plt"
   ]
  },
  {
   "cell_type": "code",
   "execution_count": 33,
   "metadata": {},
   "outputs": [],
   "source": [
    "from pixel3d import Pixel3D"
   ]
  },
  {
   "cell_type": "code",
   "execution_count": 34,
   "metadata": {},
   "outputs": [],
   "source": [
    "from topologicalunionfind import TopologicalUnionFind"
   ]
  },
  {
   "cell_type": "markdown",
   "metadata": {},
   "source": [
    "### Reading Cube"
   ]
  },
  {
   "cell_type": "code",
   "execution_count": 35,
   "metadata": {},
   "outputs": [],
   "source": [
    "cube = np.array([[[3, 6, 9],\n",
    "                  [3, 1, 5],\n",
    "                  [3, 4, 3]],\n",
    "\n",
    "                 [[8, 7, 4],\n",
    "                  [8, 4, 5],\n",
    "                  [4, 7, 5]],\n",
    "\n",
    "                 [[7, 8, 2],\n",
    "                  [2, 1, 5],\n",
    "                  [6, 6, 7]]])"
   ]
  },
  {
   "cell_type": "code",
   "execution_count": 36,
   "metadata": {},
   "outputs": [
    {
     "data": {
      "image/png": "[encoded data removed]",
      "text/plain": [
       "<Figure size 432x288 with 3 Axes>"
      ]
     },
     "metadata": {
      "needs_background": "light"
     },
     "output_type": "display_data"
    }
   ],
   "source": [
    "fig1 = plt.subplot(1, 3, 1)\n",
    "fig1.imshow(cube[0])\n",
    "fig2 = plt.subplot(1, 3, 2)\n",
    "fig2.imshow(cube[1])\n",
    "fig3 = plt.subplot(1, 3, 3)\n",
    "fig3.imshow(cube[2])\n",
    "plt.show()"
   ]
  },
  {
   "cell_type": "markdown",
   "metadata": {},
   "source": [
    "### Getting Data"
   ]
  },
  {
   "cell_type": "code",
   "execution_count": 6,
   "metadata": {},
   "outputs": [],
   "source": [
    "reverse = True\n",
    "diagonal = False"
   ]
  },
  {
   "cell_type": "code",
   "execution_count": 7,
   "metadata": {},
   "outputs": [
    {
     "data": {
      "text/plain": [
       "(3, 3, 3)"
      ]
     },
     "execution_count": 7,
     "metadata": {},
     "output_type": "execute_result"
    }
   ],
   "source": [
    "if reverse:\n",
    "    data = cube.max() - cube + 1\n",
    "else:\n",
    "    data = cube\n",
    "data.shape"
   ]
  },
  {
   "cell_type": "markdown",
   "metadata": {},
   "source": [
    "### Generating Input File"
   ]
  },
  {
   "cell_type": "code",
   "execution_count": 8,
   "metadata": {},
   "outputs": [],
   "source": [
    "if reverse: \n",
    "    if diagonal:\n",
    "        ainput = 'toy3dr.txt'\n",
    "    else:\n",
    "        ainput = 'toy3dr2.txt'\n",
    "else:\n",
    "    if diagonal:\n",
    "        ainput = 'toy3d.txt'\n",
    "    else:\n",
    "        ainput = 'toy3d2.txt'"
   ]
  },
  {
   "cell_type": "code",
   "execution_count": 9,
   "metadata": {},
   "outputs": [],
   "source": [
    "if diagonal:\n",
    "    with open(ainput, 'w') as f:\n",
    "        f.write(str(len(data.shape))+'\\n')\n",
    "        for l in data.shape:\n",
    "            f.write(str(l)+'\\n')\n",
    "        for i in data.flatten():\n",
    "            f.write(str(i)+'\\n')"
   ]
  },
  {
   "cell_type": "code",
   "execution_count": 10,
   "metadata": {},
   "outputs": [],
   "source": [
    "if not diagonal:\n",
    "    with open(ainput, 'w') as f:\n",
    "        f.write(str(len(data.shape))+'\\n')\n",
    "        for i in range(0, data.shape[0]):\n",
    "            for j in range(0, data.shape[1]):\n",
    "                for k in range(0, data.shape[2]):\n",
    "                    f.write('0 {} {} {} {}\\n'.format(i, j, k, data[i, j, k]))\n",
    "                    if i+1<data.shape[0]:\n",
    "                        f.write('1 {} {} {} {} {} {} {}\\n'.format(i, j, k, i+1, j, k, \n",
    "                                                                  max(data[i, j, k], data[i+1, j, k])))\n",
    "                    if j+1<data.shape[1]:\n",
    "                        f.write('1 {} {} {} {} {} {} {}\\n'.format(i, j, k, i, j+1, k, \n",
    "                                                                  max(data[i, j, k], data[i, j+1, k])))\n",
    "                    if k+1<data.shape[2]:\n",
    "                        f.write('1 {} {} {} {} {} {} {}\\n'.format(i, j, k, i, j, k+1, \n",
    "                                                                  max(data[i, j, k], data[i, j, k+1])))"
   ]
  },
  {
   "cell_type": "markdown",
   "metadata": {},
   "source": [
    "### Running"
   ]
  },
  {
   "cell_type": "code",
   "execution_count": 11,
   "metadata": {},
   "outputs": [],
   "source": [
    "import subprocess"
   ]
  },
  {
   "cell_type": "code",
   "execution_count": 12,
   "metadata": {},
   "outputs": [],
   "source": [
    "if diagonal:\n",
    "    subprocess.run(['./perseusMac', 'cubtop', ainput, ainput[:-4]])\n",
    "else:\n",
    "    subprocess.run(['./perseusMac', 'nmfsimtop', ainput, ainput[:-4]])"
   ]
  },
  {
   "cell_type": "markdown",
   "metadata": {},
   "source": [
    "### Reading Output File"
   ]
  },
  {
   "cell_type": "code",
   "execution_count": 13,
   "metadata": {},
   "outputs": [],
   "source": [
    "if reverse: \n",
    "    if diagonal:\n",
    "        aoutput = 'toy3dr_0.txt'\n",
    "    else:\n",
    "        aoutput = 'toy3dr2_0.txt'\n",
    "else:\n",
    "    if diagonal:\n",
    "        aoutput = 'toy3d_0.txt'\n",
    "    else:\n",
    "        aoutput = 'toy3d2_0.txt'"
   ]
  },
  {
   "cell_type": "code",
   "execution_count": 14,
   "metadata": {},
   "outputs": [
    {
     "data": {
      "text/plain": [
       "[(1, -1), (2, 3), (2, 4), (3, 4), (3, 5)]"
      ]
     },
     "execution_count": 14,
     "metadata": {},
     "output_type": "execute_result"
    }
   ],
   "source": [
    "pd2 = []\n",
    "with open(aoutput) as f:\n",
    "    for l in f.readlines():\n",
    "        info = l.split()\n",
    "        pd2.append((int(info[0]), int(info[1])))\n",
    "pd2 = sorted(pd2, key=lambda x:x[0])\n",
    "pd2"
   ]
  },
  {
   "cell_type": "markdown",
   "metadata": {},
   "source": [
    "### Creating Pixel Objects"
   ]
  },
  {
   "cell_type": "code",
   "execution_count": 15,
   "metadata": {},
   "outputs": [],
   "source": [
    "mat = []\n",
    "for i in range(data.shape[0]):\n",
    "    aslice = []\n",
    "    for j in range(data.shape[1]):\n",
    "        row = []\n",
    "        for k in range(data.shape[2]):\n",
    "            element = data[i][j][k]\n",
    "            row.append(Pixel3D(i, j, k, element))\n",
    "        aslice.append(row)\n",
    "    mat.append(aslice)"
   ]
  },
  {
   "cell_type": "code",
   "execution_count": 16,
   "metadata": {},
   "outputs": [
    {
     "data": {
      "text/plain": [
       "[Pixel: [coordinates: (0, 0, 2); value: 1],\n",
       " Pixel: [coordinates: (1, 0, 0); value: 2],\n",
       " Pixel: [coordinates: (1, 1, 0); value: 2],\n",
       " Pixel: [coordinates: (2, 0, 1); value: 2],\n",
       " Pixel: [coordinates: (1, 0, 1); value: 3],\n",
       " Pixel: [coordinates: (1, 2, 1); value: 3],\n",
       " Pixel: [coordinates: (2, 0, 0); value: 3],\n",
       " Pixel: [coordinates: (2, 2, 2); value: 3],\n",
       " Pixel: [coordinates: (0, 0, 1); value: 4],\n",
       " Pixel: [coordinates: (2, 2, 0); value: 4],\n",
       " Pixel: [coordinates: (2, 2, 1); value: 4],\n",
       " Pixel: [coordinates: (0, 1, 2); value: 5],\n",
       " Pixel: [coordinates: (1, 1, 2); value: 5],\n",
       " Pixel: [coordinates: (1, 2, 2); value: 5],\n",
       " Pixel: [coordinates: (2, 1, 2); value: 5],\n",
       " Pixel: [coordinates: (0, 2, 1); value: 6],\n",
       " Pixel: [coordinates: (1, 0, 2); value: 6],\n",
       " Pixel: [coordinates: (1, 1, 1); value: 6],\n",
       " Pixel: [coordinates: (1, 2, 0); value: 6],\n",
       " Pixel: [coordinates: (0, 0, 0); value: 7],\n",
       " Pixel: [coordinates: (0, 1, 0); value: 7],\n",
       " Pixel: [coordinates: (0, 2, 0); value: 7],\n",
       " Pixel: [coordinates: (0, 2, 2); value: 7],\n",
       " Pixel: [coordinates: (2, 0, 2); value: 8],\n",
       " Pixel: [coordinates: (2, 1, 0); value: 8],\n",
       " Pixel: [coordinates: (0, 1, 1); value: 9],\n",
       " Pixel: [coordinates: (2, 1, 1); value: 9]]"
      ]
     },
     "execution_count": 16,
     "metadata": {},
     "output_type": "execute_result"
    }
   ],
   "source": [
    "arr = sorted([e for aslice in mat for row in aslice for e in row])\n",
    "arr"
   ]
  },
  {
   "cell_type": "markdown",
   "metadata": {},
   "source": [
    "### Getting Neighbors for a Pixel"
   ]
  },
  {
   "cell_type": "code",
   "execution_count": 17,
   "metadata": {},
   "outputs": [],
   "source": [
    "def append3DNeighbor(neighbors, x, y, z):\n",
    "    if x < 0 or y < 0 or z < 0:\n",
    "        return\n",
    "    try:\n",
    "        neighbors.append(mat[x][y][z])\n",
    "    except:\n",
    "        pass"
   ]
  },
  {
   "cell_type": "code",
   "execution_count": 18,
   "metadata": {},
   "outputs": [],
   "source": [
    "def get_neighbors(pixel, diagonal=False):\n",
    "    neighbors = []\n",
    "    x = pixel.getX()\n",
    "    y = pixel.getY()\n",
    "    z = pixel.getZ()\n",
    "    append3DNeighbor(neighbors, x-1, y, z)\n",
    "    append3DNeighbor(neighbors, x+1, y, z)\n",
    "    append3DNeighbor(neighbors, x, y-1, z)\n",
    "    append3DNeighbor(neighbors, x, y+1, z)\n",
    "    append3DNeighbor(neighbors, x, y, z-1)\n",
    "    append3DNeighbor(neighbors, x, y, z+1)\n",
    "    if diagonal:\n",
    "        append3DNeighbor(neighbors, x-1, y-1, z-1)\n",
    "        append3DNeighbor(neighbors, x-1, y-1, z)\n",
    "        append3DNeighbor(neighbors, x-1, y-1, z+1)\n",
    "        append3DNeighbor(neighbors, x-1, y, z-1)\n",
    "        append3DNeighbor(neighbors, x-1, y, z+1)\n",
    "        append3DNeighbor(neighbors, x-1, y+1, z-1)\n",
    "        append3DNeighbor(neighbors, x-1, y+1, z)\n",
    "        append3DNeighbor(neighbors, x-1, y+1, z+1)\n",
    "        append3DNeighbor(neighbors, x, y+1, z+1)\n",
    "        append3DNeighbor(neighbors, x, y-1, z+1)\n",
    "        append3DNeighbor(neighbors, x, y+1, z-1)\n",
    "        append3DNeighbor(neighbors, x, y-1, z-1)\n",
    "        append3DNeighbor(neighbors, x+1, y-1, z-1)\n",
    "        append3DNeighbor(neighbors, x+1, y-1, z)\n",
    "        append3DNeighbor(neighbors, x+1, y-1, z+1)\n",
    "        append3DNeighbor(neighbors, x+1, y, z-1)\n",
    "        append3DNeighbor(neighbors, x+1, y, z+1)\n",
    "        append3DNeighbor(neighbors, x+1, y+1, z-1)\n",
    "        append3DNeighbor(neighbors, x+1, y+1, z)\n",
    "        append3DNeighbor(neighbors, x+1, y+1, z+1)\n",
    "    return neighbors"
   ]
  },
  {
   "cell_type": "code",
   "execution_count": 19,
   "metadata": {},
   "outputs": [
    {
     "data": {
      "text/plain": [
       "{3, 4, 5, 6}"
      ]
     },
     "execution_count": 19,
     "metadata": {},
     "output_type": "execute_result"
    }
   ],
   "source": [
    "set([len(get_neighbors(pixel)) for pixel in arr])"
   ]
  },
  {
   "cell_type": "code",
   "execution_count": 20,
   "metadata": {},
   "outputs": [
    {
     "data": {
      "text/plain": [
       "{7, 11, 17, 26}"
      ]
     },
     "execution_count": 20,
     "metadata": {},
     "output_type": "execute_result"
    }
   ],
   "source": [
    "set([len(get_neighbors(pixel, True)) for pixel in arr])"
   ]
  },
  {
   "cell_type": "markdown",
   "metadata": {},
   "source": [
    "### Creating Topological Union-find"
   ]
  },
  {
   "cell_type": "code",
   "execution_count": 21,
   "metadata": {},
   "outputs": [
    {
     "data": {
      "text/plain": [
       "<UnionFind:\n",
       "\telts=[],\n",
       "\tsiz=[],\n",
       "\tpar=[],\n",
       "n_elts=0,n_comps=0>"
      ]
     },
     "execution_count": 21,
     "metadata": {},
     "output_type": "execute_result"
    }
   ],
   "source": [
    "tuf = TopologicalUnionFind()\n",
    "tuf"
   ]
  },
  {
   "cell_type": "code",
   "execution_count": 22,
   "metadata": {},
   "outputs": [],
   "source": [
    "for pixel in arr:\n",
    "    tuf.add(pixel, pixel.getV())\n",
    "    for neighbor in get_neighbors(pixel, diagonal):\n",
    "        tuf.union(pixel, neighbor, pixel.getV())"
   ]
  },
  {
   "cell_type": "code",
   "execution_count": 23,
   "metadata": {},
   "outputs": [
    {
     "data": {
      "text/plain": [
       "[(Pixel: [coordinates: (0, 0, 2); value: 1], 1, inf),\n",
       " (Pixel: [coordinates: (1, 1, 0); value: 2], 2, 3),\n",
       " (Pixel: [coordinates: (2, 0, 1); value: 2], 2, 4),\n",
       " (Pixel: [coordinates: (1, 2, 1); value: 3], 3, 5),\n",
       " (Pixel: [coordinates: (2, 2, 2); value: 3], 3, 4)]"
      ]
     },
     "execution_count": 23,
     "metadata": {},
     "output_type": "execute_result"
    }
   ],
   "source": [
    "pd = tuf.persistence_diagram()\n",
    "pd"
   ]
  },
  {
   "cell_type": "markdown",
   "metadata": {},
   "source": [
    "### Visualization"
   ]
  },
  {
   "cell_type": "code",
   "execution_count": 24,
   "metadata": {},
   "outputs": [],
   "source": [
    "y = np.arange(0, len(pd))"
   ]
  },
  {
   "cell_type": "code",
   "execution_count": 25,
   "metadata": {},
   "outputs": [],
   "source": [
    "xmin = [f[1] for f in pd]\n",
    "xmax = [data.max()*1.1 if np.isinf(f[2]) else f[2] for f in pd]\n",
    "xlim = (min(xmin), max(xmax))"
   ]
  },
  {
   "cell_type": "code",
   "execution_count": 26,
   "metadata": {},
   "outputs": [],
   "source": [
    "if reverse:\n",
    "    xmin, xmax = [cube.max() - x + 1 for x in xmax], [cube.max() - x + 1 for x in xmin]\n",
    "    xlim = (max(xmax), min(xmin))"
   ]
  },
  {
   "cell_type": "code",
   "execution_count": 27,
   "metadata": {
    "scrolled": true
   },
   "outputs": [
    {
     "data": {
      "image/png": "[encoded data removed]",
      "text/plain": [
       "<Figure size 1080x144 with 1 Axes>"
      ]
     },
     "metadata": {
      "needs_background": "light"
     },
     "output_type": "display_data"
    }
   ],
   "source": [
    "height = 2 + len(pd) // 10\n",
    "plt.figure(figsize=(15,height))\n",
    "plt.hlines(y=y, xmin=xmin, xmax=xmax)\n",
    "plt.xlim(xlim[0], xlim[1])\n",
    "plt.xlabel('Value')\n",
    "plt.ylabel('Connected Component ID')\n",
    "plt.show()"
   ]
  },
  {
   "cell_type": "markdown",
   "metadata": {},
   "source": [
    "### Visualization 2"
   ]
  },
  {
   "cell_type": "code",
   "execution_count": 28,
   "metadata": {},
   "outputs": [],
   "source": [
    "y = np.arange(0, len(pd2))"
   ]
  },
  {
   "cell_type": "code",
   "execution_count": 29,
   "metadata": {},
   "outputs": [],
   "source": [
    "xmin = [f[0] for f in pd2]\n",
    "xmax = [data.max()*1.1 if f[1] == -1 else f[1] for f in pd2]\n",
    "xlim = (min(xmin), max(xmax))"
   ]
  },
  {
   "cell_type": "code",
   "execution_count": 30,
   "metadata": {},
   "outputs": [],
   "source": [
    "if reverse:\n",
    "    xmin, xmax = [cube.max() - x + 1 for x in xmax], [cube.max() - x + 1 for x in xmin]\n",
    "    xlim = (max(xmax), min(xmin))"
   ]
  },
  {
   "cell_type": "code",
   "execution_count": 31,
   "metadata": {
    "scrolled": true
   },
   "outputs": [
    {
     "data": {
      "image/png": "[encoded data removed]",
      "text/plain": [
       "<Figure size 1080x144 with 1 Axes>"
      ]
     },
     "metadata": {
      "needs_background": "light"
     },
     "output_type": "display_data"
    }
   ],
   "source": [
    "height = 2 + len(pd2) // 10\n",
    "plt.figure(figsize=(15,height))\n",
    "plt.hlines(y=y, xmin=xmin, xmax=xmax)\n",
    "plt.xlim(xlim[0], xlim[1])\n",
    "plt.xlabel('Value')\n",
    "plt.ylabel('Connected Component ID')\n",
    "plt.show()"
   ]
  },
  {
   "cell_type": "code",
   "execution_count": null,
   "metadata": {},
   "outputs": [],
   "source": []
  }
 ],
 "metadata": {
  "kernelspec": {
   "display_name": "Python 3",
   "language": "python",
   "name": "python3"
  },
  "language_info": {
   "codemirror_mode": {
    "name": "ipython",
    "version": 3
   },
   "file_extension": ".py",
   "mimetype": "text/x-python",
   "name": "python",
   "nbconvert_exporter": "python",
   "pygments_lexer": "ipython3",
   "version": "3.6.7"
  }
 },
 "nbformat": 4,
 "nbformat_minor": 2
}
