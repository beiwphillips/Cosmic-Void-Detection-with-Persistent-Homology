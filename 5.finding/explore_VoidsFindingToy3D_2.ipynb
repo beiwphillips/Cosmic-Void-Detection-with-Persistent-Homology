{
 "cells": [
  {
   "cell_type": "code",
   "execution_count": 38,
   "metadata": {},
   "outputs": [],
   "source": [
    "import numpy as np\n",
    "import bisect\n",
    "\n",
    "from matplotlib import pyplot as plt\n",
    "import matplotlib"
   ]
  },
  {
   "cell_type": "code",
   "execution_count": 2,
   "metadata": {},
   "outputs": [],
   "source": [
    "from pixel3d import Pixel3D"
   ]
  },
  {
   "cell_type": "code",
   "execution_count": 3,
   "metadata": {},
   "outputs": [],
   "source": [
    "from topologicalunionfind import TopologicalUnionFind"
   ]
  },
  {
   "cell_type": "markdown",
   "metadata": {},
   "source": [
    "### Reading Cube"
   ]
  },
  {
   "cell_type": "code",
   "execution_count": 4,
   "metadata": {},
   "outputs": [],
   "source": [
    "cube = np.array([[[3, 6, 9],\n",
    "                  [3, 1, 5],\n",
    "                  [3, 4, 3]],\n",
    "\n",
    "                 [[8, 7, 4],\n",
    "                  [8, 4, 5],\n",
    "                  [4, 7, 5]],\n",
    "\n",
    "                 [[7, 8, 2],\n",
    "                  [2, 1, 5],\n",
    "                  [6, 6, 7]]])"
   ]
  },
  {
   "cell_type": "code",
   "execution_count": 5,
   "metadata": {},
   "outputs": [
    {
     "data": {
      "image/png": "[encoded data removed]",
      "text/plain": [
       "<Figure size 432x288 with 3 Axes>"
      ]
     },
     "metadata": {
      "needs_background": "light"
     },
     "output_type": "display_data"
    }
   ],
   "source": [
    "fig1 = plt.subplot(1, 3, 1)\n",
    "fig1.imshow(cube[0])\n",
    "fig2 = plt.subplot(1, 3, 2)\n",
    "fig2.imshow(cube[1])\n",
    "fig3 = plt.subplot(1, 3, 3)\n",
    "fig3.imshow(cube[2])\n",
    "plt.show()"
   ]
  },
  {
   "cell_type": "markdown",
   "metadata": {},
   "source": [
    "### Getting Data"
   ]
  },
  {
   "cell_type": "code",
   "execution_count": 76,
   "metadata": {},
   "outputs": [],
   "source": [
    "reverse = True\n",
    "diagonal = False"
   ]
  },
  {
   "cell_type": "code",
   "execution_count": 77,
   "metadata": {},
   "outputs": [
    {
     "data": {
      "text/plain": [
       "(3, 3, 3)"
      ]
     },
     "execution_count": 77,
     "metadata": {},
     "output_type": "execute_result"
    }
   ],
   "source": [
    "if reverse:\n",
    "    data = cube.max() - cube + 1\n",
    "else:\n",
    "    data = cube\n",
    "data.shape"
   ]
  },
  {
   "cell_type": "markdown",
   "metadata": {},
   "source": [
    "### Generating Input File"
   ]
  },
  {
   "cell_type": "code",
   "execution_count": 78,
   "metadata": {},
   "outputs": [],
   "source": [
    "if reverse: \n",
    "    if diagonal:\n",
    "        ainput = 'toy3dr.txt'\n",
    "    else:\n",
    "        ainput = 'toy3dr2.txt'\n",
    "else:\n",
    "    if diagonal:\n",
    "        ainput = 'toy3d.txt'\n",
    "    else:\n",
    "        ainput = 'toy3d2.txt'"
   ]
  },
  {
   "cell_type": "code",
   "execution_count": 79,
   "metadata": {},
   "outputs": [],
   "source": [
    "def write3dPath(f, data, i, j, k, ni, nj, nk):\n",
    "    if ni < 0 or nj < 0 or nk < 0:\n",
    "        return\n",
    "    try:\n",
    "        f.write('1 {} {} {} {} {} {} {}\\n'.format(i, j, k, ni, nj, nk, max(data[i, j, k], data[ni, nj, nk])))\n",
    "    except:\n",
    "        pass"
   ]
  },
  {
   "cell_type": "code",
   "execution_count": 80,
   "metadata": {},
   "outputs": [],
   "source": [
    "with open(ainput, 'w') as f:\n",
    "    f.write(str(len(data.shape))+'\\n')\n",
    "    for i in range(0, data.shape[0]):\n",
    "        for j in range(0, data.shape[1]):\n",
    "            for k in range(0, data.shape[2]):\n",
    "                f.write('0 {} {} {} {}\\n'.format(i, j, k, data[i, j, k]))\n",
    "                write3dPath(f, data, i, j, k, i+1, j, k)\n",
    "                write3dPath(f, data, i, j, k, i, j+1, k)\n",
    "                write3dPath(f, data, i, j, k, i, j, k+1)\n",
    "                if diagonal:\n",
    "                    write3dPath(f, data, i, j, k, i, j+1, k+1)\n",
    "                    write3dPath(f, data, i, j, k, i, j+1, k-1)\n",
    "                    write3dPath(f, data, i, j, k, i+1, j, k+1)\n",
    "                    write3dPath(f, data, i, j, k, i+1, j, k-1)\n",
    "                    write3dPath(f, data, i, j, k, i+1, j+1, k)\n",
    "                    write3dPath(f, data, i, j, k, i+1, j-1, k)"
   ]
  },
  {
   "cell_type": "markdown",
   "metadata": {},
   "source": [
    "### Running"
   ]
  },
  {
   "cell_type": "code",
   "execution_count": 81,
   "metadata": {},
   "outputs": [],
   "source": [
    "import subprocess"
   ]
  },
  {
   "cell_type": "code",
   "execution_count": 82,
   "metadata": {},
   "outputs": [
    {
     "data": {
      "text/plain": [
       "CompletedProcess(args=['./perseusMac', 'nmfsimtop', 'toy3dr2.txt', 'toy3dr2'], returncode=0)"
      ]
     },
     "execution_count": 82,
     "metadata": {},
     "output_type": "execute_result"
    }
   ],
   "source": [
    "subprocess.run(['./perseusMac', 'nmfsimtop', ainput, ainput[:-4]])"
   ]
  },
  {
   "cell_type": "markdown",
   "metadata": {},
   "source": [
    "### Reading Output File"
   ]
  },
  {
   "cell_type": "code",
   "execution_count": 83,
   "metadata": {},
   "outputs": [],
   "source": [
    "if reverse: \n",
    "    if diagonal:\n",
    "        aoutput = 'toy3dr_0.txt'\n",
    "    else:\n",
    "        aoutput = 'toy3dr2_0.txt'\n",
    "else:\n",
    "    if diagonal:\n",
    "        aoutput = 'toy3d_0.txt'\n",
    "    else:\n",
    "        aoutput = 'toy3d2_0.txt'"
   ]
  },
  {
   "cell_type": "code",
   "execution_count": 84,
   "metadata": {},
   "outputs": [
    {
     "data": {
      "text/plain": [
       "[(1, -1), (2, 3), (2, 4), (3, 4), (3, 5)]"
      ]
     },
     "execution_count": 84,
     "metadata": {},
     "output_type": "execute_result"
    }
   ],
   "source": [
    "pd2 = []\n",
    "with open(aoutput) as f:\n",
    "    for l in f.readlines():\n",
    "        info = l.split()\n",
    "        pd2.append((int(info[0]), int(info[1])))\n",
    "pd2 = sorted(pd2, key=lambda x:x[0])\n",
    "pd2"
   ]
  },
  {
   "cell_type": "code",
   "execution_count": 85,
   "metadata": {},
   "outputs": [
    {
     "data": {
      "text/plain": [
       "[(1, 9), (7, 8), (6, 8), (6, 7), (5, 7)]"
      ]
     },
     "execution_count": 85,
     "metadata": {},
     "output_type": "execute_result"
    }
   ],
   "source": [
    "persistencePH = []\n",
    "for birth, death in pd2:\n",
    "    if reverse:\n",
    "        nbirth = cube.max() - death + 1 if death != -1 else cube.min() \n",
    "        ndeath = cube.max() - birth + 1\n",
    "    else:\n",
    "        nbirth = birth + cube.min() - 1\n",
    "        ndeath = death + cube.min() - 1 if death != -1 else cube.max()\n",
    "    persistencePH.append((nbirth, ndeath))\n",
    "persistencePH"
   ]
  },
  {
   "cell_type": "markdown",
   "metadata": {},
   "source": [
    "### Creating Pixel Objects"
   ]
  },
  {
   "cell_type": "code",
   "execution_count": 86,
   "metadata": {},
   "outputs": [],
   "source": [
    "mat = []\n",
    "for i in range(data.shape[0]):\n",
    "    aslice = []\n",
    "    for j in range(data.shape[1]):\n",
    "        row = []\n",
    "        for k in range(data.shape[2]):\n",
    "            element = data[i][j][k]\n",
    "            row.append(Pixel3D(i, j, k, element))\n",
    "        aslice.append(row)\n",
    "    mat.append(aslice)"
   ]
  },
  {
   "cell_type": "code",
   "execution_count": 87,
   "metadata": {},
   "outputs": [
    {
     "data": {
      "text/plain": [
       "[Pixel: [coordinates: (0, 0, 2); value: 1],\n",
       " Pixel: [coordinates: (1, 0, 0); value: 2],\n",
       " Pixel: [coordinates: (1, 1, 0); value: 2],\n",
       " Pixel: [coordinates: (2, 0, 1); value: 2],\n",
       " Pixel: [coordinates: (1, 0, 1); value: 3],\n",
       " Pixel: [coordinates: (1, 2, 1); value: 3],\n",
       " Pixel: [coordinates: (2, 0, 0); value: 3],\n",
       " Pixel: [coordinates: (2, 2, 2); value: 3],\n",
       " Pixel: [coordinates: (0, 0, 1); value: 4],\n",
       " Pixel: [coordinates: (2, 2, 0); value: 4],\n",
       " Pixel: [coordinates: (2, 2, 1); value: 4],\n",
       " Pixel: [coordinates: (0, 1, 2); value: 5],\n",
       " Pixel: [coordinates: (1, 1, 2); value: 5],\n",
       " Pixel: [coordinates: (1, 2, 2); value: 5],\n",
       " Pixel: [coordinates: (2, 1, 2); value: 5],\n",
       " Pixel: [coordinates: (0, 2, 1); value: 6],\n",
       " Pixel: [coordinates: (1, 0, 2); value: 6],\n",
       " Pixel: [coordinates: (1, 1, 1); value: 6],\n",
       " Pixel: [coordinates: (1, 2, 0); value: 6],\n",
       " Pixel: [coordinates: (0, 0, 0); value: 7],\n",
       " Pixel: [coordinates: (0, 1, 0); value: 7],\n",
       " Pixel: [coordinates: (0, 2, 0); value: 7],\n",
       " Pixel: [coordinates: (0, 2, 2); value: 7],\n",
       " Pixel: [coordinates: (2, 0, 2); value: 8],\n",
       " Pixel: [coordinates: (2, 1, 0); value: 8],\n",
       " Pixel: [coordinates: (0, 1, 1); value: 9],\n",
       " Pixel: [coordinates: (2, 1, 1); value: 9]]"
      ]
     },
     "execution_count": 87,
     "metadata": {},
     "output_type": "execute_result"
    }
   ],
   "source": [
    "arr = sorted([e for aslice in mat for row in aslice for e in row])\n",
    "arr"
   ]
  },
  {
   "cell_type": "markdown",
   "metadata": {},
   "source": [
    "### Getting Neighbors for a Pixel"
   ]
  },
  {
   "cell_type": "code",
   "execution_count": 88,
   "metadata": {},
   "outputs": [],
   "source": [
    "def append3DNeighbor(neighbors, x, y, z):\n",
    "    if x < 0 or y < 0 or z < 0:\n",
    "        return\n",
    "    try:\n",
    "        neighbors.append(mat[x][y][z])\n",
    "    except:\n",
    "        pass"
   ]
  },
  {
   "cell_type": "code",
   "execution_count": 89,
   "metadata": {},
   "outputs": [],
   "source": [
    "def get_neighbors(pixel, diagonal=False):\n",
    "    neighbors = []\n",
    "    x = pixel.getX()\n",
    "    y = pixel.getY()\n",
    "    z = pixel.getZ()\n",
    "    append3DNeighbor(neighbors, x-1, y, z)\n",
    "    append3DNeighbor(neighbors, x+1, y, z)\n",
    "    append3DNeighbor(neighbors, x, y-1, z)\n",
    "    append3DNeighbor(neighbors, x, y+1, z)\n",
    "    append3DNeighbor(neighbors, x, y, z-1)\n",
    "    append3DNeighbor(neighbors, x, y, z+1)\n",
    "    if diagonal:\n",
    "        append3DNeighbor(neighbors, x-1, y-1, z-1)\n",
    "        append3DNeighbor(neighbors, x-1, y-1, z)\n",
    "        append3DNeighbor(neighbors, x-1, y-1, z+1)\n",
    "        append3DNeighbor(neighbors, x-1, y, z-1)\n",
    "        append3DNeighbor(neighbors, x-1, y, z+1)\n",
    "        append3DNeighbor(neighbors, x-1, y+1, z-1)\n",
    "        append3DNeighbor(neighbors, x-1, y+1, z)\n",
    "        append3DNeighbor(neighbors, x-1, y+1, z+1)\n",
    "        append3DNeighbor(neighbors, x, y+1, z+1)\n",
    "        append3DNeighbor(neighbors, x, y-1, z+1)\n",
    "        append3DNeighbor(neighbors, x, y+1, z-1)\n",
    "        append3DNeighbor(neighbors, x, y-1, z-1)\n",
    "        append3DNeighbor(neighbors, x+1, y-1, z-1)\n",
    "        append3DNeighbor(neighbors, x+1, y-1, z)\n",
    "        append3DNeighbor(neighbors, x+1, y-1, z+1)\n",
    "        append3DNeighbor(neighbors, x+1, y, z-1)\n",
    "        append3DNeighbor(neighbors, x+1, y, z+1)\n",
    "        append3DNeighbor(neighbors, x+1, y+1, z-1)\n",
    "        append3DNeighbor(neighbors, x+1, y+1, z)\n",
    "        append3DNeighbor(neighbors, x+1, y+1, z+1)\n",
    "    return neighbors"
   ]
  },
  {
   "cell_type": "code",
   "execution_count": 90,
   "metadata": {},
   "outputs": [
    {
     "data": {
      "text/plain": [
       "{3, 4, 5, 6}"
      ]
     },
     "execution_count": 90,
     "metadata": {},
     "output_type": "execute_result"
    }
   ],
   "source": [
    "set([len(get_neighbors(pixel)) for pixel in arr])"
   ]
  },
  {
   "cell_type": "code",
   "execution_count": 91,
   "metadata": {},
   "outputs": [
    {
     "data": {
      "text/plain": [
       "{7, 11, 17, 26}"
      ]
     },
     "execution_count": 91,
     "metadata": {},
     "output_type": "execute_result"
    }
   ],
   "source": [
    "set([len(get_neighbors(pixel, True)) for pixel in arr])"
   ]
  },
  {
   "cell_type": "markdown",
   "metadata": {},
   "source": [
    "### Creating Topological Union-find"
   ]
  },
  {
   "cell_type": "code",
   "execution_count": 92,
   "metadata": {},
   "outputs": [
    {
     "data": {
      "text/plain": [
       "<UnionFind:\n",
       "\telts=[],\n",
       "\tsiz=[],\n",
       "\tpar=[],\n",
       "n_elts=0,n_comps=0>"
      ]
     },
     "execution_count": 92,
     "metadata": {},
     "output_type": "execute_result"
    }
   ],
   "source": [
    "tuf = TopologicalUnionFind()\n",
    "tuf"
   ]
  },
  {
   "cell_type": "code",
   "execution_count": 93,
   "metadata": {},
   "outputs": [],
   "source": [
    "for pixel in arr:\n",
    "    tuf.add(pixel, pixel.getV())\n",
    "    for neighbor in get_neighbors(pixel, diagonal):\n",
    "        tuf.union(pixel, neighbor, pixel.getV())"
   ]
  },
  {
   "cell_type": "code",
   "execution_count": 94,
   "metadata": {},
   "outputs": [
    {
     "data": {
      "text/plain": [
       "[(1, inf), (2, 3), (2, 4), (3, 5), (3, 4)]"
      ]
     },
     "execution_count": 94,
     "metadata": {},
     "output_type": "execute_result"
    }
   ],
   "source": [
    "pd = tuf.persistence()\n",
    "pd"
   ]
  },
  {
   "cell_type": "code",
   "execution_count": 95,
   "metadata": {},
   "outputs": [
    {
     "data": {
      "text/plain": [
       "[(1, 9), (7, 8), (6, 8), (5, 7), (6, 7)]"
      ]
     },
     "execution_count": 95,
     "metadata": {},
     "output_type": "execute_result"
    }
   ],
   "source": [
    "persistenceUF = []\n",
    "for birth, death in pd:\n",
    "    if reverse:\n",
    "        nbirth = cube.max() - death + 1 if np.isfinite(death) else cube.min() \n",
    "        ndeath = cube.max() - birth + 1\n",
    "    else:\n",
    "        nbirth = birth\n",
    "        ndeath = death if np.isfinite(death) else cube.max()\n",
    "    persistenceUF.append((nbirth, ndeath))\n",
    "persistenceUF"
   ]
  },
  {
   "cell_type": "markdown",
   "metadata": {},
   "source": [
    "### Visualization"
   ]
  },
  {
   "cell_type": "code",
   "execution_count": 96,
   "metadata": {},
   "outputs": [],
   "source": [
    "y = np.arange(0, len(persistenceUF))"
   ]
  },
  {
   "cell_type": "code",
   "execution_count": 97,
   "metadata": {},
   "outputs": [],
   "source": [
    "xmin = [birth for birth, death in persistenceUF]\n",
    "xmax = [death for birth, death in persistenceUF]"
   ]
  },
  {
   "cell_type": "code",
   "execution_count": 98,
   "metadata": {},
   "outputs": [],
   "source": [
    "if reverse:\n",
    "    xlim = (max(xmax), min(xmin))\n",
    "else:\n",
    "    xlim = (min(xmin), max(xmax))"
   ]
  },
  {
   "cell_type": "code",
   "execution_count": 99,
   "metadata": {
    "scrolled": true
   },
   "outputs": [
    {
     "data": {
      "image/png": "[encoded data removed]",
      "text/plain": [
       "<Figure size 1080x144 with 1 Axes>"
      ]
     },
     "metadata": {
      "needs_background": "light"
     },
     "output_type": "display_data"
    }
   ],
   "source": [
    "height = 2 + len(persistenceUF) // 10\n",
    "plt.figure(figsize=(15,height))\n",
    "plt.hlines(y=y, xmin=xmin, xmax=xmax)\n",
    "plt.xlim(xlim[0], xlim[1])\n",
    "plt.gca().xaxis.set_major_locator(matplotlib.ticker.MultipleLocator())\n",
    "plt.gca().yaxis.set_major_locator(matplotlib.ticker.MultipleLocator())\n",
    "plt.xlabel('Value')\n",
    "plt.ylabel('Connected Component ID')\n",
    "plt.show()"
   ]
  },
  {
   "cell_type": "code",
   "execution_count": 100,
   "metadata": {},
   "outputs": [],
   "source": [
    "xmin = [birth for birth, death in persistenceUF]\n",
    "xmax = [death for birth, death in persistenceUF]"
   ]
  },
  {
   "cell_type": "code",
   "execution_count": 101,
   "metadata": {},
   "outputs": [],
   "source": [
    "if reverse:\n",
    "    xlim = (max(xmax)+1, min(xmin)-1)\n",
    "    xmin, xmax = xmax, xmin\n",
    "else:\n",
    "    xlim = (min(xmin)-1, max(xmax)+1)"
   ]
  },
  {
   "cell_type": "code",
   "execution_count": 102,
   "metadata": {
    "scrolled": false
   },
   "outputs": [
    {
     "data": {
      "image/png": "[encoded data removed]",
      "text/plain": [
       "<Figure size 720x504 with 1 Axes>"
      ]
     },
     "metadata": {
      "needs_background": "light"
     },
     "output_type": "display_data"
    }
   ],
   "source": [
    "plt.figure(figsize=(10,7))\n",
    "plt.scatter(xmin, xmax, c=np.array(xmax)-np.array(xmin), cmap='jet_r')\n",
    "plt.xlim(xlim[0], xlim[1])\n",
    "plt.ylim(xlim[0], xlim[1])\n",
    "plt.gca().xaxis.set_major_locator(matplotlib.ticker.MultipleLocator())\n",
    "plt.gca().yaxis.set_major_locator(matplotlib.ticker.MultipleLocator())\n",
    "plt.xlabel('Birth Time')\n",
    "plt.ylabel('Death Time')\n",
    "plt.plot([xlim[0], xlim[1]], [xlim[0], xlim[1]], c='grey')\n",
    "plt.show()"
   ]
  },
  {
   "cell_type": "markdown",
   "metadata": {},
   "source": [
    "### Visualization 2"
   ]
  },
  {
   "cell_type": "code",
   "execution_count": 103,
   "metadata": {},
   "outputs": [],
   "source": [
    "y = np.arange(0, len(persistencePH))"
   ]
  },
  {
   "cell_type": "code",
   "execution_count": 104,
   "metadata": {},
   "outputs": [],
   "source": [
    "xmin = [birth for birth, death in persistencePH]\n",
    "xmax = [death for birth, death in persistencePH]"
   ]
  },
  {
   "cell_type": "code",
   "execution_count": 105,
   "metadata": {},
   "outputs": [],
   "source": [
    "if reverse:\n",
    "    xlim = (max(xmax), min(xmin))\n",
    "else:\n",
    "    xlim = (min(xmin), max(xmax))"
   ]
  },
  {
   "cell_type": "code",
   "execution_count": 106,
   "metadata": {
    "scrolled": true
   },
   "outputs": [
    {
     "data": {
      "image/png": "[encoded data removed]",
      "text/plain": [
       "<Figure size 1080x144 with 1 Axes>"
      ]
     },
     "metadata": {
      "needs_background": "light"
     },
     "output_type": "display_data"
    }
   ],
   "source": [
    "height = 2 + len(persistencePH) // 10\n",
    "plt.figure(figsize=(15,height))\n",
    "plt.hlines(y=y, xmin=xmin, xmax=xmax)\n",
    "plt.xlim(xlim[0], xlim[1])\n",
    "plt.gca().xaxis.set_major_locator(matplotlib.ticker.MultipleLocator())\n",
    "plt.gca().yaxis.set_major_locator(matplotlib.ticker.MultipleLocator())\n",
    "plt.xlabel('Value')\n",
    "plt.ylabel('Connected Component ID')\n",
    "plt.show()"
   ]
  },
  {
   "cell_type": "code",
   "execution_count": 107,
   "metadata": {},
   "outputs": [],
   "source": [
    "xmin = [birth for birth, death in persistencePH]\n",
    "xmax = [death for birth, death in persistencePH]"
   ]
  },
  {
   "cell_type": "code",
   "execution_count": 108,
   "metadata": {},
   "outputs": [],
   "source": [
    "if reverse:\n",
    "    xlim = (max(xmax)+1, min(xmin)-1)\n",
    "    xmin, xmax = xmax, xmin\n",
    "else:\n",
    "    xlim = (min(xmin)-1, max(xmax)+1)"
   ]
  },
  {
   "cell_type": "code",
   "execution_count": 109,
   "metadata": {
    "scrolled": false
   },
   "outputs": [
    {
     "data": {
      "image/png": "[encoded data removed]",
      "text/plain": [
       "<Figure size 720x504 with 1 Axes>"
      ]
     },
     "metadata": {
      "needs_background": "light"
     },
     "output_type": "display_data"
    }
   ],
   "source": [
    "plt.figure(figsize=(10,7))\n",
    "plt.scatter(xmin, xmax, c=np.array(xmax)-np.array(xmin), cmap='jet_r')\n",
    "plt.xlim(xlim[0], xlim[1])\n",
    "plt.ylim(xlim[0], xlim[1])\n",
    "plt.gca().xaxis.set_major_locator(matplotlib.ticker.MultipleLocator())\n",
    "plt.gca().yaxis.set_major_locator(matplotlib.ticker.MultipleLocator())\n",
    "plt.xlabel('Birth Time')\n",
    "plt.ylabel('Death Time')\n",
    "plt.plot([xlim[0], xlim[1]], [xlim[0], xlim[1]], c='grey')\n",
    "plt.show()"
   ]
  },
  {
   "cell_type": "code",
   "execution_count": null,
   "metadata": {},
   "outputs": [],
   "source": []
  }
 ],
 "metadata": {
  "kernelspec": {
   "display_name": "Python 3",
   "language": "python",
   "name": "python3"
  },
  "language_info": {
   "codemirror_mode": {
    "name": "ipython",
    "version": 3
   },
   "file_extension": ".py",
   "mimetype": "text/x-python",
   "name": "python",
   "nbconvert_exporter": "python",
   "pygments_lexer": "ipython3",
   "version": "3.6.7"
  }
 },
 "nbformat": 4,
 "nbformat_minor": 2
}
