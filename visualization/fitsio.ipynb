{
 "cells": [
  {
   "cell_type": "code",
   "execution_count": 1,
   "metadata": {
    "collapsed": true
   },
   "outputs": [],
   "source": [
    "import fitsio"
   ]
  },
  {
   "cell_type": "code",
   "execution_count": 2,
   "metadata": {
    "collapsed": true
   },
   "outputs": [],
   "source": [
    "h = fitsio.FITS('yulong.fits')"
   ]
  },
  {
   "cell_type": "code",
   "execution_count": 3,
   "metadata": {},
   "outputs": [
    {
     "data": {
      "text/plain": [
       "9010"
      ]
     },
     "execution_count": 3,
     "metadata": {},
     "output_type": "execute_result"
    }
   ],
   "source": [
    "len(h)"
   ]
  },
  {
   "cell_type": "code",
   "execution_count": 5,
   "metadata": {},
   "outputs": [
    {
     "name": "stdout",
     "output_type": "stream",
     "text": [
      "\n",
      "XTENSION= 'BINTABLE'           / binary table extension\n",
      "BITPIX  =                    8 / 8-bit bytes\n",
      "NAXIS   =                    2 / 2-dimensional binary table\n",
      "NAXIS1  =                   24 / width of table in bytes\n",
      "NAXIS2  =                 1474 / number of rows in table\n",
      "PCOUNT  =                    0 / size of special data area\n",
      "GCOUNT  =                    1 / one data group (required keyword)\n",
      "TFIELDS =                    3 / number of fields in each row\n",
      "TTYPE1  = 'LAMBDA  '           / label for field   1\n",
      "TFORM1  = 'D       '           / data format of field: 8-byte DOUBLE\n",
      "TUNIT1  = 'Angstrom'           / physical unit of field\n",
      "TTYPE2  = 'DELTA_T '           / label for field   2\n",
      "TFORM2  = 'D       '           / data format of field: 8-byte DOUBLE\n",
      "TTYPE3  = 'RCOMOV  '           / label for field   3\n",
      "TFORM3  = 'D       '           / data format of field: 8-byte DOUBLE\n",
      "TUNIT3  = 'Mpc/h   '           / physical unit of field\n",
      "EXTNAME = '90078484.0'         / name of this binary table extension\n",
      "RA      =     212.016571044922 / Right Ascension [deg]\n",
      "DEC     =     50.4429130554199 / Declination [deg]\n",
      "Z       =     3.54652571678162 / Redshift\n",
      "[ 4728.77711328  4729.22156275  4729.66623221 ...,  5454.23984824\n",
      "  5454.78678739  5455.33378138]\n"
     ]
    }
   ],
   "source": [
    "print(h[1].read_header())\n",
    "print(h[1]['LAMBDA'][:])"
   ]
  },
  {
   "cell_type": "code",
   "execution_count": 4,
   "metadata": {},
   "outputs": [
    {
     "data": {
      "text/plain": [
       "array([ 4728.77711328,  4729.22156275,  4729.66623221, ...,  5454.23984824,\n",
       "        5454.78678739,  5455.33378138])"
      ]
     },
     "execution_count": 4,
     "metadata": {},
     "output_type": "execute_result"
    }
   ],
   "source": [
    "h[1]['LAMBDA'][:]"
   ]
  },
  {
   "cell_type": "code",
   "execution_count": null,
   "metadata": {
    "collapsed": true
   },
   "outputs": [],
   "source": []
  }
 ],
 "metadata": {
  "kernelspec": {
   "display_name": "Python 3",
   "language": "python",
   "name": "python3"
  },
  "language_info": {
   "codemirror_mode": {
    "name": "ipython",
    "version": 3
   },
   "file_extension": ".py",
   "mimetype": "text/x-python",
   "name": "python",
   "nbconvert_exporter": "python",
   "pygments_lexer": "ipython3",
   "version": "3.6.3"
  }
 },
 "nbformat": 4,
 "nbformat_minor": 2
}
